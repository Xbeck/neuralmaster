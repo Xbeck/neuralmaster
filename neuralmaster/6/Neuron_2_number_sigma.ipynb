{
 "cells": [
  {
   "cell_type": "code",
   "execution_count": 1,
   "metadata": {
    "collapsed": true
   },
   "outputs": [],
   "source": [
    "import numpy as np"
   ]
  },
  {
   "cell_type": "code",
   "execution_count": 2,
   "metadata": {
    "collapsed": true
   },
   "outputs": [],
   "source": [
    "# Загрузить и подготовить тренировочные данные из формата CSV в список\n",
    "training_data = open(\"dataset/Data_train.csv\", 'r') # 'r' - открываем файл для чтения\n",
    "training_data_list = training_data.readlines() # readlines() - читает все строки в файле в переменную training_data_list\n",
    "training_data.close() # закрываем файл csv\n",
    "\n",
    "# Загрузить и подготовить тестовые данные из формата CSV в список\n",
    "test_data = open(\"dataset/Data_test.csv\", 'r') # 'r' - открываем файл для чтения\n",
    "test_data_list = test_data.readlines()# Загрузить и подготовить тестовые данные из формата CSV в список \n",
    "test_data.close() # закрываем файл csv"
   ]
  },
  {
   "cell_type": "code",
   "execution_count": 3,
   "metadata": {
    "collapsed": true
   },
   "outputs": [],
   "source": [
    "# Определение класса нейронной сети\n",
    "class neuron_Net:\n",
    "    \n",
    "    # Инициализация весов нейронной сети\n",
    "    def __init__(self, input_num, neuron_num, learningrate): #констр.(кол-во входов, кол-во нейронов)\n",
    "                                         # МАТРИЦА ВЕСОВ\n",
    "        # Задаем матрицу весов как случайное от -0,5 до 0,5\n",
    "        self.weights = (np.random.rand(neuron_num, input_num) -0.5) \n",
    "        # Задаем параметр скорости обучения\n",
    "        self.lr = learningrate\n",
    "        \n",
    "        pass\n",
    "    \n",
    "    # Метод обучения нейронной сети\n",
    "    def train(self, inputs_list, targets_list): # принимает (вх. список данных, ответы)\n",
    "        # Преобразовать список входов в вертикальный массив. .T - транспонирование\n",
    "        inputs_x = np.array(inputs_list, ndmin=2).T # матрица числа\n",
    "        targets_Y = np.array(targets_list, ndmin=2).T # матрица ответов: какое это число\n",
    "        \n",
    "                                           # ВЫЧИСЛЕНИЕ СИГНАЛОВ\n",
    "        # Вычислить сигналы в нейронах. Взвешенная сумма.\n",
    "        x = np.dot(self.weights, inputs_x) # dot - умножение матриц X = W*I = weights * inputs\n",
    "        # Вычислить сигналы, выходящие из нейрона. Функция активации - сигмоида(x)\n",
    "        y = 1/(1+np.exp(-x))        \n",
    "        \n",
    "                                            # ВЫЧИСЛЕНИЕ ОШИБКИ\n",
    "        #  Ошибка E = -(цель - фактическое значение) \n",
    "        E = -(targets_Y - y) \n",
    "        \n",
    "                                            # ОБНОВЛЕНИЕ ВЕСОВ\n",
    "        # Меняем веса по каждой связи\n",
    "        self.weights -= self.lr * np.dot((E * y * (1.0 - y)), np.transpose(inputs_x))\n",
    "        \n",
    "        pass\n",
    "    \n",
    "    # Метод прогона тестовых значений\n",
    "    def query(self, inputs_list): # Принимает свой набор тестовых данных\n",
    "        # Преобразовать список входов в вертикальный 2D массив. \n",
    "        inputs_x = np.array(inputs_list, ndmin=2).T \n",
    "        \n",
    "        # Вычислить сигналы в нейронах. Взвешенная сумма.\n",
    "        x = np.dot(self.weights, inputs_x)\n",
    "        # Вычислить сигналы, выходящие из нейрона. Сигмоида(x)\n",
    "        y = 1/(1+np.exp(-x))\n",
    "        \n",
    "        return y"
   ]
  },
  {
   "cell_type": "code",
   "execution_count": 4,
   "metadata": {},
   "outputs": [],
   "source": [
    "                            # ЗАДАЁМ ПАРАМЕТРЫ СЕТИ\n",
    "# Количество входных данных, нейронов\n",
    "data_input = 15\n",
    "data_neuron = 2\n",
    "\n",
    "# Cкорость обучения\n",
    "learningrate = 0.1\n",
    "\n",
    "# Создать экземпляр нейронной сети\n",
    "n = neuron_Net(data_input, data_neuron, learningrate)"
   ]
  },
  {
   "cell_type": "code",
   "execution_count": 5,
   "metadata": {},
   "outputs": [],
   "source": [
    "                            # ОБУЧЕНИЕ\n",
    "# Зададим количество эпох\n",
    "epochs = 40000\n",
    "# Прогон по обучающей выборке\n",
    "for e in range(epochs):\n",
    "    for i in training_data_list:\n",
    "        # Получить входные данные числа\n",
    "        all_values = i.split(',') # split(',') - раздел строку на символы где запятая \",\" символ разделения\n",
    "        inputs_x = np.asfarray(all_values[1:])\n",
    "        \n",
    "        # Получить целевое значение Y, (ответ - какое это число)\n",
    "        targets_Y = int(all_values[0])  # перевод символов в int, 0 элемент - ответ\n",
    "        \n",
    "        # создать целевые выходные значения (все 0.01, кроме нужной метки, которая равна 0.99)\n",
    "        targets_Y = np.zeros(data_neuron) + 0.01\n",
    "        \n",
    "        # Получить целевое значение Y, (ответ - какое это число). all_values[0] - целевая метка для этой записи\n",
    "        if int(all_values[0]) <= 1: # цель <= 1 потому как распознаём только 2 числа, 0 и 1.\n",
    "            targets_Y[int(all_values[0])] = 0.99\n",
    "            \n",
    "        n.train(inputs_x, targets_Y) # наш метод train - обучение нейронной сети                      "
   ]
  },
  {
   "cell_type": "code",
   "execution_count": 6,
   "metadata": {},
   "outputs": [
    {
     "name": "stdout",
     "output_type": "stream",
     "text": [
      "Весовые коэффициенты:\n",
      " [[ 0.55376239 -0.2659114  -0.55801795  1.63794241 -0.39180754  0.18253672\n",
      "  -1.86935497 -4.51957151 -1.10400713  3.68316632 -1.31690796  0.48928634\n",
      "   0.63951451  0.6593403  -3.74255197]\n",
      " [-4.18510101 -3.35072555 -0.15142484 -0.89959198 -0.54914752  1.80364436\n",
      "  -2.10131379 -0.79061126  0.94477939  0.27198919 -0.42900452  0.13232677\n",
      "  -0.54182952  0.16586589  1.24938759]]\n"
     ]
    }
   ],
   "source": [
    "# Вывод обученных весов\n",
    "print('Весовые коэффициенты:\\n', n.weights)"
   ]
  },
  {
   "cell_type": "code",
   "execution_count": 7,
   "metadata": {},
   "outputs": [
    {
     "name": "stdout",
     "output_type": "stream",
     "text": [
      "0 Вероятность:\n",
      " [[ 0.98282717]\n",
      " [ 0.0018778 ]]\n",
      "1 Вероятность:\n",
      " [[ 0.01110791]\n",
      " [ 0.98279182]]\n",
      "2 Вероятность:\n",
      " [[ 0.01280932]\n",
      " [ 0.00169931]]\n",
      "3 Вероятность:\n",
      " [[  4.97172575e-05]\n",
      " [  2.29715820e-03]]\n",
      "4 Вероятность:\n",
      " [[ 0.00010462]\n",
      " [ 0.0130299 ]]\n",
      "5 Вероятность:\n",
      " [[ 0.00018235]\n",
      " [ 0.00010789]]\n",
      "6 Вероятность:\n",
      " [[ 0.01247943]\n",
      " [ 0.00070262]]\n",
      "7 Вероятность:\n",
      " [[ 0.01036096]\n",
      " [ 0.01685072]]\n",
      "8 Вероятность:\n",
      " [[ 0.00498377]\n",
      " [ 0.00085023]]\n",
      "9 Вероятность:\n",
      " [[ 0.01543393]\n",
      " [ 0.00064968]]\n"
     ]
    }
   ],
   "source": [
    "# Еще раз пройдем по обучающей выборке\n",
    "for i in training_data_list:\n",
    "    all_values = i.split(',') # split(',') - раздел строку на символы где запятая \",\" символ разделения\n",
    "    inputs_x = np.asfarray(all_values[1:])\n",
    "    # Прогон по сети\n",
    "    outputs = n.query(inputs_x)\n",
    "    print(i[0], 'Вероятность:\\n', outputs)"
   ]
  },
  {
   "cell_type": "code",
   "execution_count": 8,
   "metadata": {},
   "outputs": [
    {
     "name": "stdout",
     "output_type": "stream",
     "text": [
      "0 Узнал?:  Да!\n",
      "1 Узнал?:  Да!\n",
      "2 Узнал?:  Нет!\n",
      "3 Узнал?:  Нет!\n",
      "4 Узнал?:  Нет!\n",
      "5 Узнал?:  Нет!\n",
      "6 Узнал?:  Нет!\n",
      "7 Узнал?:  Нет!\n",
      "8 Узнал?:  Нет!\n",
      "9 Узнал?:  Нет!\n"
     ]
    }
   ],
   "source": [
    "# Если вероятность больше 0,5 и номер выхода совпадает с ответом, то считаем что сеть, \n",
    "#на своем определенном выходе, узнала цифру. \n",
    "for i in training_data_list:\n",
    "    all_values = i.split(',') # split(',') - раздел строку на символы где запятая \",\" символ разделения\n",
    "    inputs_x = np.asfarray(all_values[1:])\n",
    "    # Прогон по сети\n",
    "    outputs = n.query(inputs_x)\n",
    "    # индекс самого высокого значения соответствует метке\n",
    "    label = np.argmax(outputs)\n",
    "    if outputs[label]>0.5 and int(all_values[0]) == label:\n",
    "        print(i[0], 'Узнал?: ', 'Да!')\n",
    "    else:\n",
    "        print(i[0], 'Узнал?: ', 'Нет!')                                         "
   ]
  },
  {
   "cell_type": "code",
   "execution_count": 9,
   "metadata": {},
   "outputs": [
    {
     "name": "stdout",
     "output_type": "stream",
     "text": [
      "Вероятность что узнал 0 - 1 ? [ 0.95590294]\n",
      "Вероятность что узнал 0 - 2 ? [ 0.98378171]\n",
      "Вероятность что узнал 0 - 3 ? [ 0.63522571]\n",
      "Вероятность что узнал 0 - 4 ? [ 0.92786908]\n",
      "Вероятность что узнал 0 - 5 ? [ 0.78988343]\n",
      "Вероятность что узнал 0 - 6 ? [ 0.76715129]\n",
      "Вероятность что узнал 1 - 1 ? [ 0.98163393]\n",
      "Вероятность что узнал 1 - 2 ? [ 0.98125632]\n",
      "Вероятность что узнал 1 - 3 ? [ 0.94877843]\n",
      "Вероятность что узнал 1 - 4 ? [ 0.95536855]\n",
      "Вероятность что узнал 1 - 5 ? [ 0.9817356]\n",
      "Вероятность что узнал 1 - 6 ? [ 0.95543842]\n"
     ]
    }
   ],
   "source": [
    "# Проход по тестовой выборке\n",
    "t = 0 # Счетчик номера нуля тестовой выборки\n",
    "t1 = 0 # Счетчик номера единицы тестовой выборки\n",
    "for i in test_data_list:\n",
    "    all_values = i.split(',') # split(',') - раздел строку на символы где запятая \",\" символ разделения\n",
    "    inputs_x = np.asfarray(all_values[1:])\n",
    "    t += 1\n",
    "    # Прогон по сети\n",
    "    outputs = n.query(inputs_x)\n",
    "    # индекс самого высокого значения соответствует метке\n",
    "    label = np.argmax(outputs)\n",
    "    if t <= 6:\n",
    "        print('Вероятность что узнал 0 -',t, '?', outputs[label])\n",
    "    else:\n",
    "        t1 += 1\n",
    "        print('Вероятность что узнал 1 -',t1, '?', outputs[label])"
   ]
  },
  {
   "cell_type": "code",
   "execution_count": 10,
   "metadata": {},
   "outputs": [
    {
     "name": "stdout",
     "output_type": "stream",
     "text": [
      "0 Узнал?: 1 Да!\n",
      "0 Узнал?: 2 Да!\n",
      "0 Узнал?: 3 Да!\n",
      "0 Узнал?: 4 Да!\n",
      "0 Узнал?: 5 Да!\n",
      "0 Узнал?: 6 Да!\n",
      "1 Узнал?: 7 Да!\n",
      "1 Узнал?: 8 Да!\n",
      "1 Узнал?: 9 Да!\n",
      "1 Узнал?: 10 Да!\n",
      "1 Узнал?: 11 Да!\n",
      "1 Узнал?: 12 Да!\n"
     ]
    }
   ],
   "source": [
    "t = 0 # Счетчик номера нуля тестовой выборки\n",
    "t1 = 0 # Счетчик номера единицы тестовой выборки\n",
    "# Если вероятность больше 0,5 и номер выхода совпадает с ответом, то считаем что сеть, \n",
    "#на своем определенном выходе, узнала цифру. \n",
    "for i in test_data_list:\n",
    "    all_values = i.split(',') # split(',') - раздел строку на символы где запятая \",\" символ разделения\n",
    "    inputs_x = np.asfarray(all_values[1:])\n",
    "    # Прогон по сети\n",
    "    outputs = n.query(inputs_x)\n",
    "    # индекс самого высокого значения соответствует метке\n",
    "    label = np.argmax(outputs)\n",
    "    t += 1\n",
    "    if outputs[label]>0.5 and int(all_values[0]) == label:\n",
    "        print(i[0], 'Узнал?:',t, 'Да!')\n",
    "    else:\n",
    "        t1 += 1\n",
    "        print(i[0], 'Узнал?:',t1, 'Нет!')"
   ]
  },
  {
   "cell_type": "code",
   "execution_count": null,
   "metadata": {
    "collapsed": true
   },
   "outputs": [],
   "source": []
  }
 ],
 "metadata": {
  "kernelspec": {
   "display_name": "Python 3",
   "language": "python",
   "name": "python3"
  },
  "language_info": {
   "codemirror_mode": {
    "name": "ipython",
    "version": 3
   },
   "file_extension": ".py",
   "mimetype": "text/x-python",
   "name": "python",
   "nbconvert_exporter": "python",
   "pygments_lexer": "ipython3",
   "version": "3.6.3"
  }
 },
 "nbformat": 4,
 "nbformat_minor": 2
}
