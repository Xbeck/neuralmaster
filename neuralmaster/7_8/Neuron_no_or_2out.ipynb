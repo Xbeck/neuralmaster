{
 "cells": [
  {
   "cell_type": "code",
   "execution_count": 1,
   "metadata": {
    "collapsed": true
   },
   "outputs": [],
   "source": [
    "import numpy as np"
   ]
  },
  {
   "cell_type": "code",
   "execution_count": 2,
   "metadata": {
    "collapsed": true
   },
   "outputs": [],
   "source": [
    "# Загрузить и подготовить тренировочные данные из формата CSV в список\n",
    "training_data = open(\"dataset/Data_train.csv\", 'r') # 'r' - открываем файл для чтения\n",
    "training_data_list = training_data.readlines() # readlines() - читает все строки в файле в переменную training_data_list\n",
    "training_data.close() # закрываем файл csv"
   ]
  },
  {
   "cell_type": "code",
   "execution_count": 3,
   "metadata": {
    "collapsed": true
   },
   "outputs": [],
   "source": [
    "# Определение класса нейронной сети\n",
    "class neuron_Net:\n",
    "    \n",
    "    # Инициализация весов нейронной сети\n",
    "    def __init__(self, input_num, neuron_num, output_num, learningrate):\n",
    "                                         # МАТРИЦА ВЕСОВ\n",
    "        # Задаем матрицу весов как случайное\n",
    "        self.weights = (np.random.rand(neuron_num, input_num) +0.0)\n",
    "        self.weights_out = (np.random.rand(output_num, neuron_num) +0.0)\n",
    "        \n",
    "        # Задаем параметр скорости обучения\n",
    "        self.lr = learningrate\n",
    "        \n",
    "        pass\n",
    "    \n",
    "    # Метод обучения нейронной сети\n",
    "    def train(self, inputs_list, targets_list): # принимает (вх. список данных, ответы)\n",
    "        # Преобразовать список входов в вертикальный массив. .T - транспонирование\n",
    "        inputs_x = np.array(inputs_list, ndmin=2).T # матрица числа\n",
    "        targets_Y = np.array(targets_list, ndmin=2).T # матрица ответов: какое это число\n",
    "        \n",
    "                                           # ВЫЧИСЛЕНИЕ СИГНАЛОВ\n",
    "        # Вычислить сигналы в нейронах скрытого слоя. Взвешенная сумма.\n",
    "        x1 = np.dot(self.weights, inputs_x) # dot - умножение матриц X = W*I = weights * inputs\n",
    "        # Вычислить сигналы, выходящие из нейрона. Функция активации - сигмоида(x)\n",
    "        y1 = 1/(1+np.exp(-x1))\n",
    "        # Вычислить сигналы в нейронах выходного слоя. Взвешенная сумма.\n",
    "        x2 = np.dot(self.weights_out, y1) # dot - умножение матриц X = W*I = weights * inputs\n",
    "        # Вычислить сигналы, выходящие из нейрона. Функция активации - сигмоида(x)\n",
    "        y2 = 1/(1+np.exp(-x2))\n",
    "        \n",
    "                                            # ВЫЧИСЛЕНИЕ ОШИБКИ\n",
    "        #  Ошибка E = -(цель - фактическое значение) \n",
    "        E = -(targets_Y - y2)\n",
    "        # Ошибка скрытого слоя\n",
    "        E_hidden = np.dot(self.weights_out.T, E) \n",
    "        \n",
    "                                            # ОБНОВЛЕНИЕ ВЕСОВ\n",
    "        # Меняем веса по каждой связи\n",
    "        self.weights_out -= self.lr * np.dot((E * y2 * (1.0 - y2)), np.transpose(y1))\n",
    "        # Меняем веса по каждой связи\n",
    "        self.weights -= self.lr * np.dot((E_hidden * y1 * (1.0 - y1)), np.transpose(inputs_x))\n",
    "        \n",
    "        pass\n",
    "    \n",
    "    # Метод прогона тестовых значений\n",
    "    def query(self, inputs_list): # Принимает свой набор тестовых данных\n",
    "        # Преобразовать список входов в вертикальный массив. \n",
    "        inputs_x = np.array(inputs_list, ndmin=2).T \n",
    "        \n",
    "        # Вычислить сигналы в нейронах скрытого слоя. Взвешенная сумма.\n",
    "        x1 = np.dot(self.weights, inputs_x) # dot - умножение матриц X = W*I = weights * inputs\n",
    "        # Вычислить сигналы, выходящие из нейрона. Функция активации - сигмоида(x)\n",
    "        y1 = 1/(1+np.exp(-x1))\n",
    "        # Вычислить сигналы в нейронах выходного слоя. Взвешенная сумма.\n",
    "        x2 = np.dot(self.weights_out, y1) # dot - умножение матриц X = W*I = weights * inputs\n",
    "        # Вычислить сигналы, выходящие из нейрона. Функция активации - сигмоида(x)\n",
    "        y2 = 1/(1+np.exp(-x2))\n",
    "        \n",
    "        return y2"
   ]
  },
  {
   "cell_type": "code",
   "execution_count": 4,
   "metadata": {
    "collapsed": true
   },
   "outputs": [],
   "source": [
    "                            # ЗАДАЁМ ПАРАМЕТРЫ СЕТИ\n",
    "# Количество входных данных, нейронов\n",
    "data_input = 2\n",
    "data_neuron = 4\n",
    "data_output = 2\n",
    "\n",
    "# Cкорость обучения\n",
    "learningrate = 0.2\n",
    "\n",
    "# Создать экземпляр нейронной сети\n",
    "n = neuron_Net(data_input, data_neuron, data_output, learningrate)"
   ]
  },
  {
   "cell_type": "code",
   "execution_count": 5,
   "metadata": {
    "collapsed": true
   },
   "outputs": [],
   "source": [
    "                            # ОБУЧЕНИЕ\n",
    "# Зададим количество эпох\n",
    "epochs = 80000\n",
    "# Прогон по обучающей выборке\n",
    "for e in range(epochs):\n",
    "    for i in training_data_list:\n",
    "        # Получить входные данные числа\n",
    "        all_values = i.split(',') # split(',') - раздел строку на символы где запятая \",\" символ разделения\n",
    "        inputs_x = np.asfarray(all_values[1:])\n",
    "        \n",
    "        # Получить целевое значение Y, (ответ - какое это число)\n",
    "        targets_Y = int(all_values[0])  # перевод символов в int, 0 элемент - ответ\n",
    "        \n",
    "        # создать целевые выходные значения (все 0.01, кроме нужной метки, которая равна 0.99)\n",
    "        targets_Y = np.zeros(data_output) + 0.01\n",
    "        \n",
    "        # Получить целевое значение Y, (ответ - какое это число). all_values[0] - целевая метка для этой записи\n",
    "        targets_Y[int(all_values[0])] = 0.99\n",
    "            \n",
    "        n.train(inputs_x, targets_Y) # наш метод train - обучение нейронной сети                      "
   ]
  },
  {
   "cell_type": "code",
   "execution_count": 6,
   "metadata": {},
   "outputs": [
    {
     "name": "stdout",
     "output_type": "stream",
     "text": [
      "Весовые коэффициенты:\n",
      " [[ 12.95040394  -6.49232526]\n",
      " [ -9.08125352  -8.94676728]\n",
      " [-13.09373108   6.56168093]\n",
      " [  7.32763501 -14.51411564]]\n"
     ]
    }
   ],
   "source": [
    "# Вывод обученных весов\n",
    "print('Весовые коэффициенты:\\n', n.weights)"
   ]
  },
  {
   "cell_type": "code",
   "execution_count": 7,
   "metadata": {},
   "outputs": [
    {
     "name": "stdout",
     "output_type": "stream",
     "text": [
      "0 XOR 0 = 0 \n",
      " [[ 0.97987662]\n",
      " [ 0.02012364]]\n",
      "1 XOR 0 = 1 \n",
      " [[ 0.0181055 ]\n",
      " [ 0.98189458]]\n",
      "0 XOR 1 = 1 \n",
      " [[ 0.01725169]\n",
      " [ 0.98274808]]\n",
      "1 XOR 1 = 0 \n",
      " [[ 0.985501 ]\n",
      " [ 0.0144984]]\n"
     ]
    }
   ],
   "source": [
    "# Прогоним входные данные из обучающей выборки через обученную сеть\n",
    "for i in training_data_list:\n",
    "    all_values = i.split(',') # split(',') - раздел строку на символы где запятая \",\" символ разделения\n",
    "    #all_values = np.asfarray(all_values,int) # Перевод списка в int \n",
    "    inputs_x = np.asfarray(all_values[1:])\n",
    "    # Прогон по сети\n",
    "    outputs = n.query(inputs_x)\n",
    "    print(int(all_values[1]), 'XOR', int(all_values[2]), '=' ,  np.argmax(outputs), '\\n',outputs)      "
   ]
  },
  {
   "cell_type": "code",
   "execution_count": null,
   "metadata": {
    "collapsed": true
   },
   "outputs": [],
   "source": []
  }
 ],
 "metadata": {
  "kernelspec": {
   "display_name": "Python 3",
   "language": "python",
   "name": "python3"
  },
  "language_info": {
   "codemirror_mode": {
    "name": "ipython",
    "version": 3
   },
   "file_extension": ".py",
   "mimetype": "text/x-python",
   "name": "python",
   "nbconvert_exporter": "python",
   "pygments_lexer": "ipython3",
   "version": "3.6.3"
  }
 },
 "nbformat": 4,
 "nbformat_minor": 2
}
