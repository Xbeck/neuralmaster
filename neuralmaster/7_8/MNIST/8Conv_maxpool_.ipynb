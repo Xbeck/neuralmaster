{
 "cells": [
  {
   "cell_type": "code",
   "execution_count": 1,
   "metadata": {
    "collapsed": true
   },
   "outputs": [],
   "source": [
    "import numpy as np\n",
    "# библиотека для вывода на консоль массивов\n",
    "import matplotlib.pyplot\n",
    "# убедитесь, что участки находятся внутри этой записной книжки, а не внешнего окна\n",
    "%matplotlib inline\n",
    "#plt.show() # Вместо %matplotlib inline в других средах, не notebook\n",
    "from time import time, sleep #Для замера времени выполнения функций\n",
    "from tqdm import tqdm #Для вывода прогресса вычисления функций\n",
    "# glob помогает выбрать несколько файлов, используя шаблоны\n",
    "import glob\n",
    "# помощник для загрузки данных из файлов изображений PNG\n",
    "import scipy.misc\n",
    "import re # Для извлечения дробной и целой части"
   ]
  },
  {
   "cell_type": "code",
   "execution_count": 2,
   "metadata": {
    "collapsed": true
   },
   "outputs": [],
   "source": [
    "# Загрузить mnist тренировочные данные в формате CSV \n",
    "training_data_file = open(\"MNIST_dataset/mnist_train_100.csv\", 'r') # 'r' - открываем файл для чтения\n",
    "training_data_list = training_data_file.readlines() # readlines() - читает все строки в файле в переменную training_data_list\n",
    "training_data_file.close() # закрываем фаел csv"
   ]
  },
  {
   "cell_type": "code",
   "execution_count": 3,
   "metadata": {
    "collapsed": true
   },
   "outputs": [],
   "source": [
    "# Определение класса нейронной сети\n",
    "class neuron_Net:\n",
    "        \n",
    "    # инициализация нейронной сети\n",
    "    def __init__(self, input_num, hidden_num, maxpul_num, output_num, learningrate): #констр.(входной слой, скрытый слой, макспул, выходной слой)\n",
    "       \n",
    "        self.m = 28 #Размер входного массива(ДхШ)\n",
    "        self.k = 5 #Размер весов (ДхШ)\n",
    "        self.m_k_1 = (self.m-self.k)+1\n",
    "        self.stok_w = 9 #Число ядер свертки (весов)\n",
    "        self.stob_w = self.k*self.k #Количество элементов 1го ядра свертки\n",
    "        self.x1 = np.zeros((self.stok_w, self.m_k_1, self.m_k_1)) #Массив скрытого слоя\n",
    "        \n",
    "        # Пулиинг данные\n",
    "        self.pool_m = 2 # Матрица ядра пуллинга\n",
    "        self.m_k_1_pool = int(self.m_k_1/self.pool_m) # Размерность слоя пуллинга\n",
    "        self.hidden_outputs_mp = np.zeros((self.stok_w, self.m_k_1_pool, self.m_k_1_pool)) # Массива пулинга\n",
    "        self.hidden_outputs_el = np.zeros((self.stok_w, self.m_k_1_pool, self.m_k_1_pool), dtype='<U32') # хранит адрес макс. элемента\n",
    "        \n",
    "        #Для вывода карт свойст скрытого слоя  \n",
    "        self.hidden_outputs_image = np.zeros((self.stok_w, self.m_k_1, self.m_k_1))\n",
    "                                                    # МАТРИЦЫ ВЕСОВ\n",
    "        self.weights = np.random.normal(0.0, pow(self.stob_w, -0.5), (self.stok_w, self.k, self.k)) \n",
    "        self.weights_out = np.random.normal(0.0, pow(maxpul_num, -0.5), (output_num, maxpul_num)) # После пуллинг слоя\n",
    "\n",
    "        # скорость обучения\n",
    "        self.lr = learningrate\n",
    "        \n",
    "        # функция активации-функция сигмоида\n",
    "        self.activation_function = lambda x: scipy.special.expit(x)\n",
    "        \n",
    "        pass\n",
    "\n",
    "    \n",
    "    # обучение нейронной сети\n",
    "    def train(self, inputs_list, targets_list): # принемает входной список данных,targets ответы\n",
    "        # Преобразовать список входов в 2D массив\n",
    "        inputs_x = np.array(inputs_list.reshape(self.m , self.m)) # матрица числа\n",
    "\n",
    "        targets_Y = np.array(targets_list, ndmin=2).T # матрица ответов какое это число\n",
    "        \n",
    "        \n",
    "                                        # ВЫЧИСЛЕНИЕ СИГНАЛОВ ПО СЛОЯМ\n",
    "        # вычислить сигналы в скрытом слое (матрица сигналов скрытого слоя)        \n",
    "        for s in range(self.stok_w):\n",
    "            for h in range(self.m_k_1):\n",
    "                for w in range(self.m_k_1):\n",
    "                    self.x1[s,h,w] = np.sum(inputs_x[h:h+self.k, w:w+self.k] * self.weights[s])\n",
    "        \n",
    "        # вычислить сигналы, возникающие из скрытого слоя.\n",
    "        y1 = self.activation_function(self.x1) #Сигмоида\n",
    "        \n",
    "        # Макспуллинг\n",
    "        for s in range(self.stok_w):\n",
    "            for h in range(self.m_k_1_pool):\n",
    "                for w in range(self.m_k_1_pool):\n",
    "                    temp2 = y1[s, h*self.pool_m:h*self.pool_m+self.pool_m, w*self.pool_m:w*self.pool_m+self.pool_m] # Для хранения подматрицы с нулевыми и макс знач.\n",
    "                    self.hidden_outputs_mp[s,h,w] = y1[s, h*self.pool_m:h*self.pool_m+self.pool_m, w*self.pool_m:w*self.pool_m+self.pool_m].max() # Матрица массива пулинга\n",
    "                    for i in range(self.pool_m):\n",
    "                        for j in range(self.pool_m):\n",
    "                            if temp2[i, j] == self.hidden_outputs_mp[s,h,w]:\n",
    "                                temp3 = str(i+h*self.pool_m) + ',' + str(j+w*self.pool_m)\n",
    "                        \n",
    "                    self.hidden_outputs_el[s, h, w] = temp3\n",
    "        \n",
    "        \n",
    "        # вычислить сигналы в окончательный выходной слой (матрица сигналов выходного слоя)\n",
    "        x2 = np.dot(self.weights_out, np.array(self.hidden_outputs_mp.flatten(), ndmin=2).T) # сигнал вых.слоя = вес скр. слоя * значение сигнала скр.слоя\n",
    "        # вычислить сигналы, исходящие из конечного выходного слоя\n",
    "        y2 = self.activation_function(x2) # Сигмоида\n",
    "        \n",
    "                                            # ВЫЧИСЛЕНИЕ ОШИБКИ ПО СЛОЯМ\n",
    "        #  ошибка выходного слоя является (цель - фактическое) \n",
    "        E = -(targets_Y - y2)\n",
    "        # Скрытая ошибка слоя макспулинга\n",
    "        hidden_errors_mp = np.dot(self.weights_out.T, E) # Одномерный, вертикальный\n",
    "        hidden_errors_mp = self.hidden_outputs_mp.reshape(self.stok_w, self.m_k_1_pool, self.m_k_1_pool)# 3D\n",
    "        \n",
    "        # Обнулим ошибки перед пулингом\n",
    "        E_hidden = np.zeros((self.stok_w, self.m_k_1, self.m_k_1))\n",
    "        for s in range(self.stok_w):\n",
    "            for h in range(self.m_k_1_pool):\n",
    "                for w in range(self.m_k_1_pool):\n",
    "                    result = re.split(r'[,]', self.hidden_outputs_el[s,h,w]) # Разбивает строку по разделителю ',' можно сраху несколько разделителей \n",
    "                    i = int(result[0])\n",
    "                    j = int(result[1])\n",
    "                    E_hidden[s,i,j] = hidden_errors_mp[s,h,w]\n",
    "        \n",
    "        \n",
    "                                            # ОБНОВЛЕНИЕ ВЕСОВ ПО СЛОЯМ\n",
    "        # обновления весов связей между скрытым пуллинг слоем и выходным слоями\n",
    "        self.weights_out -= self.lr * np.dot((E * y2 \n",
    "                                          * (1.0 - y2)), np.transpose(np.array(self.hidden_outputs_mp.flatten(), ndmin=2).T)) # Сигмоида        \n",
    "        \n",
    "        # обновления весов связей между входным и скрытым слоями             \n",
    "        for s in range(self.stok_w):\n",
    "            for h in range(self.k):\n",
    "                for w in range(self.k):\n",
    "                    inputs_t = inputs_x[h:h+self.m_k_1, w:w+self.m_k_1]\n",
    "                    inputs_t = np.fliplr(inputs_t)\n",
    "                    inputs_t = np.flipud(inputs_t)\n",
    "                    self.weights[s, h, w] -= np.sum(E_hidden[s] * inputs_t * self.lr) #Для софтмакс и без функции активации и RRELU на выходе\n",
    "                    \n",
    "        #Запоминаем карту свойст скрытого слоя перед пулингом для просмотра            \n",
    "        self.hidden_outputs_image = y1 \n",
    "        pass\n",
    "\n",
    "                                        # МЕТОД ПРОГОНА СВОИХ ЗНАЧЕНИЙ ПО СЕТИ\n",
    "    # запросить нейронную сеть\n",
    "    def query(self, inputs_list): # Функция прогонки по слоям своих данных. Принемает свой набор тестовых данных\n",
    "        # Преобразовать список входов в 2D массив\n",
    "        inputs_x = np.array(inputs_list.reshape(self.m , self.m)) # матрица числа\n",
    "        \n",
    "        # вычислить сигналы в скрытом слое (матрица сигналов скрытого слоя)        \n",
    "        for s in range(self.stok_w):\n",
    "            for h in range(self.m_k_1):\n",
    "                for w in range(self.m_k_1):\n",
    "                    self.x1[s,h,w] = np.sum(inputs_x[h:h+self.k, w:w+self.k] * self.weights[s])\n",
    "        \n",
    "        # вычислить сигналы, возникающие из скрытого слоя.\n",
    "        y1 = self.activation_function(self.x1) #Сигмоида\n",
    "        \n",
    "        # Макспуллинг\n",
    "        for s in range(self.stok_w):\n",
    "            for h in range(self.m_k_1_pool):\n",
    "                for w in range(self.m_k_1_pool):\n",
    "                    temp2 = y1[s, h*self.pool_m:h*self.pool_m+self.pool_m, w*self.pool_m:w*self.pool_m+self.pool_m] # Для хранения подматрицы с нулевыми и макс знач.\n",
    "                    self.hidden_outputs_mp[s,h,w] = y1[s, h*self.pool_m:h*self.pool_m+self.pool_m, w*self.pool_m:w*self.pool_m+self.pool_m].max() # Матрица выходного массива после пулинга\n",
    "                    for i in range(self.pool_m):\n",
    "                        for j in range(self.pool_m):\n",
    "                            if temp2[i, j] == self.hidden_outputs_mp[s,h,w]:\n",
    "                                temp3 = str(i+h*self.pool_m) + ',' + str(j+w*self.pool_m)\n",
    "                        \n",
    "                    self.hidden_outputs_el[s, h, w] = temp3\n",
    "        \n",
    "        \n",
    "        # вычислить сигналы в окончательный выходной слой (матрица сигналов выходного слоя)\n",
    "        x2 = np.dot(self.weights_out, np.array(self.hidden_outputs_mp.flatten(), ndmin=2).T) # сигнал вых.слоя = вес скр. слоя * значение сигнала скр.слоя\n",
    "        # вычислить сигналы, исходящие из конечного выходного слоя\n",
    "        y2 = self.activation_function(x2) # Сигмоида\n",
    "                \n",
    "        return y2"
   ]
  },
  {
   "cell_type": "code",
   "execution_count": 4,
   "metadata": {},
   "outputs": [],
   "source": [
    "# количество входных, скрытых и выходных узлов\n",
    "data_input = 784\n",
    "data_hidden = 5184\n",
    "data_maxpul = 1296 # 24/2 * 24/2 * 9 \n",
    "data_output = 10\n",
    "\n",
    "# скорость обучения\n",
    "learningrate= 0.008\n",
    "\n",
    "# Создать экземпляр нейронной сети\n",
    "n = neuron_Net(data_input, data_hidden, data_maxpul, data_output, learningrate)"
   ]
  },
  {
   "cell_type": "code",
   "execution_count": 5,
   "metadata": {},
   "outputs": [
    {
     "name": "stderr",
     "output_type": "stream",
     "text": [
      "1: 100%|█████████████████████████████████████████████████████████████████████████████| 100/100 [00:03<00:00, 25.35it/s]\n",
      "2: 100%|█████████████████████████████████████████████████████████████████████████████| 100/100 [00:03<00:00, 25.66it/s]\n",
      "3: 100%|█████████████████████████████████████████████████████████████████████████████| 100/100 [00:03<00:00, 25.67it/s]\n",
      "4: 100%|█████████████████████████████████████████████████████████████████████████████| 100/100 [00:03<00:00, 25.58it/s]\n",
      "5: 100%|█████████████████████████████████████████████████████████████████████████████| 100/100 [00:03<00:00, 25.70it/s]\n",
      "6: 100%|█████████████████████████████████████████████████████████████████████████████| 100/100 [00:03<00:00, 25.56it/s]\n",
      "7: 100%|█████████████████████████████████████████████████████████████████████████████| 100/100 [00:03<00:00, 25.63it/s]\n",
      "8: 100%|█████████████████████████████████████████████████████████████████████████████| 100/100 [00:03<00:00, 25.52it/s]\n",
      "9: 100%|█████████████████████████████████████████████████████████████████████████████| 100/100 [00:03<00:00, 25.68it/s]\n",
      "10: 100%|████████████████████████████████████████████████████████████████████████████| 100/100 [00:03<00:00, 25.66it/s]\n"
     ]
    },
    {
     "name": "stdout",
     "output_type": "stream",
     "text": [
      "Время выполнения:  39.11603331565857  сек\n"
     ]
    }
   ],
   "source": [
    "                                                      # ОБУЧЕНИЕ\n",
    "# Зададим количество эпох\n",
    "epochs = 10\n",
    "\n",
    "start = time()\n",
    "# Прогон по обучающей выборке\n",
    "for e in range(epochs):\n",
    "    # Пройдите все записи в наборе тренировочных данных    \n",
    "    #for record in training_data_list:\n",
    "    for i in tqdm(training_data_list, desc = str(e+1)): # tqdm - используем интерактив состояния прогресса вычисления\n",
    "        # Получить входные данные числа\n",
    "        all_values = i.split(',') # split(',') - раздел строку на символы где запятая \",\" символ разделения\n",
    "        # Массив данных входа с масштабированием от 0,01 до 0,99\n",
    "        inputs_x = (np.asfarray(all_values[1:])/ 255.0 * 0.99) + 0.01 # Игнорируем нулевой индекс, где целевое значение\n",
    "        \n",
    "        # Получить целевое значение Y, (ответ - какое это число)\n",
    "        targets_Y = int(all_values[0])  # перевод символов в int, 0 элемент - целевое значение\n",
    "        \n",
    "        # создать целевые выходные значения (все 0.01, кроме нужной метки, которая равна 0.99)\n",
    "        targets_Y = np.zeros(data_output) + 0.01\n",
    "        \n",
    "        # Получить целевое значение Y, (ответ - какое это число). all_values[0] - целевая метка для этой записи\n",
    "        targets_Y[int(all_values[0])] = 0.99\n",
    "            \n",
    "        n.train(inputs_x, targets_Y) # наш метод train - обучение нейронной сети\n",
    "        \n",
    "        pass\n",
    "    pass\n",
    "\n",
    "time_out = time() - start\n",
    "print(\"Время выполнения: \", time_out, \" сек\" )"
   ]
  },
  {
   "cell_type": "code",
   "execution_count": 6,
   "metadata": {
    "collapsed": true
   },
   "outputs": [],
   "source": [
    "# Загрузить CSV-файл данных теста mnist в список\n",
    "test_data_file = open(\"mnist_dataset/mnist_test_10.csv\", 'r') # 'r' - файл для чтения, а не для записи.\n",
    "test_data_list = test_data_file.readlines()  # readlines() - читает все строки в файле в переменную test_data_list\n",
    "test_data_file.close() # закрываем фаел csv"
   ]
  },
  {
   "cell_type": "code",
   "execution_count": 7,
   "metadata": {},
   "outputs": [
    {
     "name": "stderr",
     "output_type": "stream",
     "text": [
      "100%|██████████████████████████████████████████████████████████████████████████████████| 10/10 [00:00<00:00, 28.41it/s]\n"
     ]
    }
   ],
   "source": [
    "# ПРОВЕРКА ЭФФЕКТИВНОСТИ НЕЙРОННОЙ СЕТИ\n",
    "# Массив показателей эффективности сети, изначально пустой\n",
    "efficiency = []\n",
    "\n",
    "# Прогон по всем записям в наборе тестовых данных\n",
    "#for i in test_data_list:\n",
    "for i in tqdm(test_data_list):\n",
    "    # Получить входные данные числа \n",
    "    all_values = i.split(',') # split(',') - раздел строку на символы где запятая \",\" символ разделения\n",
    "    # Правильный ответ, хранимый в нулевом индексе\n",
    "    targets_Y = int(all_values[0])\n",
    "    # Массив данных входа с масштабированием от 0,01 до 0,99\n",
    "    inputs_x = (np.asfarray(all_values[1:]) / 255.0 * 0.99) + 0.01 # Игнорируем нулевой индекс, где целевое значение\n",
    "\n",
    "    # Запросить ответ у сети\n",
    "    outputs_y = n.query(inputs_x) # Прогон по сети тестового значения из нашего файла\n",
    "    # Индекс самого высокого значения на матрице выхода, соответствует метке числа\n",
    "    label_y = np.argmax(outputs_y) # argmax возвращает индекс максимального элемента в выходном массиве\n",
    "    \n",
    "    # Добавить правильный или неправильный список\n",
    "    if (label_y == targets_Y): # Если индекс макс. знач. на выходе = целевому значению (0 индекс массива данных)\n",
    "        # Если ответ сети соответствует целевому значению, добавляем 1 в конец массива показателей эффективности\n",
    "        efficiency.append(1)\n",
    "    else:\n",
    "        # Если ответ сети не соответствует целевому значению, добавляем 0 в конец массива показателей эффективности\n",
    "        efficiency.append(0)\n",
    "        \n",
    "        pass\n",
    "    \n",
    "    pass"
   ]
  },
  {
   "cell_type": "code",
   "execution_count": 8,
   "metadata": {},
   "outputs": [
    {
     "name": "stdout",
     "output_type": "stream",
     "text": [
      "Производительность =  60.0 %\n"
     ]
    }
   ],
   "source": [
    "# Вычислить оценку производительности. Доля правильных ответов\n",
    "efficiency_map = np.asarray(efficiency) # asarray - преобразование списка в массив \n",
    "\n",
    "print ('Производительность = ', (efficiency_map.sum() / efficiency_map.size)*100, '%') # Среднее арифметическое"
   ]
  },
  {
   "cell_type": "code",
   "execution_count": 9,
   "metadata": {},
   "outputs": [
    {
     "data": {
      "image/png": "[encoded data removed]",
      "text/plain": [
       "<matplotlib.figure.Figure at 0x25537da9a58>"
      ]
     },
     "metadata": {},
     "output_type": "display_data"
    },
    {
     "data": {
      "image/png": "[encoded data removed]",
      "text/plain": [
       "<matplotlib.figure.Figure at 0x25537da9128>"
      ]
     },
     "metadata": {},
     "output_type": "display_data"
    }
   ],
   "source": [
    "# Данные изображения в ядрах свертки\n",
    "# получить данные изображения с индексом \"0\". Для крупного масштаба.\n",
    "image_y1 = n.weights[0]\n",
    "# вывод данных изображения участка с индексом \"0\".\n",
    "matplotlib.pyplot.imshow(image_y1, cmap='Greys', interpolation='None')\n",
    "\n",
    "fig = matplotlib.pyplot.figure(figsize=(10,6))\n",
    "for j in range(9):\n",
    "    ax = fig.add_subplot(3, 3, j+1)\n",
    "    ax.imshow(n.weights[j], \n",
    "              cmap=matplotlib.cm.binary, interpolation='none')\n",
    "    matplotlib.pyplot.xticks(np.array([]))\n",
    "    matplotlib.pyplot.yticks(np.array([]))\n",
    "matplotlib.pyplot.show()"
   ]
  },
  {
   "cell_type": "code",
   "execution_count": 10,
   "metadata": {},
   "outputs": [
    {
     "data": {
      "image/png": "[encoded data removed]",
      "text/plain": [
       "<matplotlib.figure.Figure at 0x2553830aa90>"
      ]
     },
     "metadata": {},
     "output_type": "display_data"
    },
    {
     "data": {
      "image/png": "[encoded data removed]",
      "text/plain": [
       "<matplotlib.figure.Figure at 0x2553830a7b8>"
      ]
     },
     "metadata": {},
     "output_type": "display_data"
    }
   ],
   "source": [
    "# Данные изображения в признаках(в светочном слое)\n",
    "# получить данные изображения с индексом \"0\". Для крупного масштаба. \n",
    "image_y1 = n.hidden_outputs_image[0] # Карта запомнила последний тренировочный пример при обучении сети!\n",
    "# вывод данных изображения участка с индексом \"0\".\n",
    "matplotlib.pyplot.imshow(image_y1, cmap='Greys', interpolation='None')\n",
    "\n",
    "fig = matplotlib.pyplot.figure(figsize=(10,6))\n",
    "for j in range(9):\n",
    "    ax = fig.add_subplot(3, 3, j+1)\n",
    "    ax.imshow(n.hidden_outputs_image[j], \n",
    "              cmap=matplotlib.cm.binary, interpolation='none')\n",
    "    matplotlib.pyplot.xticks(np.array([]))\n",
    "    matplotlib.pyplot.yticks(np.array([]))\n",
    "matplotlib.pyplot.show()"
   ]
  },
  {
   "cell_type": "code",
   "execution_count": 11,
   "metadata": {},
   "outputs": [
    {
     "data": {
      "image/png": "[encoded data removed]",
      "text/plain": [
       "<matplotlib.figure.Figure at 0x2553830ae10>"
      ]
     },
     "metadata": {},
     "output_type": "display_data"
    },
    {
     "data": {
      "image/png": "[encoded data removed]",
      "text/plain": [
       "<matplotlib.figure.Figure at 0x255382f77f0>"
      ]
     },
     "metadata": {},
     "output_type": "display_data"
    }
   ],
   "source": [
    "# Данные изображения в признаках(слой макспул)\n",
    "# получить данные изображения с индексом \"0\". Для крупного масштаба. \n",
    "image_y1 = n.hidden_outputs_mp[0] # Карта запомнила последний тренировочный пример при обучении сети!\n",
    "# вывод данных изображения участка с индексом \"0\".\n",
    "matplotlib.pyplot.imshow(image_y1, cmap='Greys', interpolation='None')\n",
    "\n",
    "fig = matplotlib.pyplot.figure(figsize=(10,6))\n",
    "for j in range(9):\n",
    "    ax = fig.add_subplot(3, 3, j+1)\n",
    "    ax.imshow(n.hidden_outputs_mp[j], \n",
    "              cmap=matplotlib.cm.binary, interpolation='none')\n",
    "    matplotlib.pyplot.xticks(np.array([]))\n",
    "    matplotlib.pyplot.yticks(np.array([]))\n",
    "matplotlib.pyplot.show()"
   ]
  },
  {
   "cell_type": "code",
   "execution_count": null,
   "metadata": {
    "collapsed": true
   },
   "outputs": [],
   "source": []
  }
 ],
 "metadata": {
  "kernelspec": {
   "display_name": "Python 3",
   "language": "python",
   "name": "python3"
  },
  "language_info": {
   "codemirror_mode": {
    "name": "ipython",
    "version": 3
   },
   "file_extension": ".py",
   "mimetype": "text/x-python",
   "name": "python",
   "nbconvert_exporter": "python",
   "pygments_lexer": "ipython3",
   "version": "3.6.3"
  }
 },
 "nbformat": 4,
 "nbformat_minor": 1
}
