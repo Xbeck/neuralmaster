{
 "cells": [
  {
   "cell_type": "code",
   "execution_count": 1,
   "metadata": {
    "collapsed": true
   },
   "outputs": [],
   "source": [
    "import numpy as np\n",
    "# библиотека для вывода на консоль массивов\n",
    "import matplotlib.pyplot\n",
    "# убедитесь, что участки находятся внутри этой записной книжки, а не внешнего окна\n",
    "%matplotlib inline\n",
    "#plt.show() # Вместо %matplotlib inline в других средах, не notebook\n",
    "from time import time, sleep #Для замера времени выполнения функций\n",
    "from tqdm import tqdm #Для вывода прогресса вычисления функций\n",
    "# glob помогает выбрать несколько файлов, используя шаблоны\n",
    "import glob\n",
    "# помощник для загрузки данных из файлов изображений PNG\n",
    "import scipy.misc"
   ]
  },
  {
   "cell_type": "code",
   "execution_count": 2,
   "metadata": {
    "collapsed": true
   },
   "outputs": [],
   "source": [
    "# Загрузить mnist тренировочные данные в формате CSV \n",
    "training_data_file = open(\"MNIST_dataset/mnist_train.csv\", 'r') # 'r' - открываем файл для чтения\n",
    "training_data_list = training_data_file.readlines() # readlines() - читает все строки в файле в переменную training_data_list\n",
    "training_data_file.close() # закрываем фаел csv"
   ]
  },
  {
   "cell_type": "code",
   "execution_count": 3,
   "metadata": {
    "collapsed": true
   },
   "outputs": [],
   "source": [
    "# Определение класса нейронной сети\n",
    "class neuron_Net:\n",
    "    \n",
    "    # инициализация нейронной сети\n",
    "    def __init__(self, input_num, hidden_num, output_num, learningrate): #констр.(входной слой, скрытый слой, выходной слой)\n",
    "                                            # ВХОДНЫЕ ДАННЫЕ\n",
    "        self.m = 28 #Размер входного массива(ДхШ)\n",
    "        self.k = 5 #Размер ядер (ДхШ)        \n",
    "        self.m_k_1 = (self.m-self.k)+1 #Размер карты свойств скрытого слоя1 (ДхШ)\n",
    "        self.m_k = self.m-self.k\n",
    "        self.stob_w = self.k*self.k #Количество элементов 1го ядра свертки\n",
    "        self.m_k1_1 = (self.m_k_1 - self.k)+1 #Размер  карты свойств скрытого слоя2(ДхШ)\n",
    "        self.stok_w1 = 9 #Число ядер свертки1\n",
    "        \n",
    "        self.x1 = np.zeros((self.m_k_1, self.m_k_1)) #Скрытый слой1\n",
    "        self.x2 = np.zeros((self.stok_w1, self.m_k1_1, self.m_k1_1)) #Скрытый слой2\n",
    "                        \n",
    "        #Для вывода карт свойст скрытого слоя (для их визуального просмотра)  \n",
    "        self.hidden_outputs_image = np.zeros((self.m_k_1, self.m_k_1))\n",
    "        self.hidden_outputs_image1 = np.zeros((self.stok_w1, self.m_k1_1, self.m_k1_1))\n",
    "        \n",
    "                                            # МАТРИЦЫ ВЕСОВ\n",
    "        # Значения в ядре1\n",
    "        self.weights = np.random.normal(0.0, pow(self.stob_w, -0.5), (self.k, self.k))\n",
    "        # Значения в ядрах2\n",
    "        self.weights2 = np.random.normal(0.0, pow(self.stob_w, -0.5), (self.stok_w1, self.k, self.k))\n",
    "        self.weights2_rot_180 = self.weights2 # Шаблон для перевернутой матрицы ядер весов2\n",
    "        # Значения в весов выходного слоя\n",
    "        self.weights_out = np.random.normal(0.0, pow(hidden_num, -0.5), (output_num, hidden_num)) #20*20*9\n",
    "        \n",
    "        # Создадим матрицу размера ошибки1 - как показано на слайде\n",
    "        # Нулевая матрица размера (для помещения значений ошибок в ее центр)\n",
    "        self.hidden_errors0_temp = np.zeros((self.stok_w1, self.m_k_1+self.k-1, self.m_k_1+self.k-1))\n",
    "        self.hidden_errors0 = np.zeros((self.stok_w1, self.m_k_1, self.m_k_1))\n",
    "\n",
    "        # скорость обучения\n",
    "        self.lr = learningrate\n",
    "        \n",
    "        # функция активации-функция сигмоида\n",
    "        self.activation_function = lambda x: scipy.special.expit(x)\n",
    "        \n",
    "        pass\n",
    "\n",
    "    \n",
    "    # обучение нейронной сети\n",
    "    def train(self, inputs_list, targets_list): # принемает входной список данных,targets ответы\n",
    "        # Преобразовать список входов в 2D массив\n",
    "        inputs_x = np.array(inputs_list.reshape(self.m , self.m)) # матрица числа\n",
    "        # Преобразовать список ответов в вертикальный массив. .T - транспонирование\n",
    "        targets_Y = np.array(targets_list, ndmin=2).T # матрица ответов какое это число\n",
    "                \n",
    "                                        # ВЫЧИСЛЕНИЕ СИГНАЛОВ ПО СЛОЯМ\n",
    "        # вычислить сигналы в скрытом слое1 (карты сигналов скрытого слоя1). СВЁРТКА!\n",
    "        for h in range(self.m_k_1):\n",
    "            for w in range(self.m_k_1):\n",
    "                self.x1[h,w] = np.sum(inputs_x[h:h+self.k, w:w+self.k] * self.weights)\n",
    "        \n",
    "        # вычислить сигналы, возникающие из скрытого слоя0. сигмоида(сигнал скр.слоя)\n",
    "        y1 = self.activation_function(self.x1)\n",
    "        \n",
    "        # вычислить сигналы в скрытом слое2 (карты сигналов скрытого слоя2). СВЁРТКА!            \n",
    "        for s in range(self.stok_w1):\n",
    "            for h in range(self.m_k1_1):\n",
    "                for w in range(self.m_k1_1):\n",
    "                    self.x2[s,h,w] = np.sum(y1[h:h+self.k, w:w+self.k] * self.weights2[s])\n",
    "        \n",
    "        # вычислить сигналы, возникающие из скрытого слоя. сигмоида(сигнал скр.слоя)\n",
    "        y2 = self.activation_function(self.x2)\n",
    "        \n",
    "        # вычислить сигналы в окончательный выходной слой (матрица сигналов выходного слоя)\n",
    "        x3 = np.dot(self.weights_out, np.array(y2.flatten(), ndmin=2).T) # сигнал вых.слоя = вес скр. слоя * значение сигнала скр.слоя\n",
    "        # вычислить сигналы, исходящие из конечного выходного слоя. сигмоида(сигнал вых.слоя)\n",
    "        y3 = self.activation_function(x3)\n",
    "        \n",
    "                                            # ВЫЧИСЛЕНИЕ ОШИБКИ ПО СЛОЯМ\n",
    "        #  ошибка выходного слоя является (цель - фактическое) \n",
    "        E = -(targets_Y - y3)\n",
    "        # Ошибка скрытого слоя2\n",
    "        E_hidden = np.dot(self.weights_out.T, E)\n",
    "        E_hidden = E_hidden.reshape(self.stok_w1, self.m_k1_1, self.m_k1_1) # преобразование ошибки скрытого слоя2 в 3D\n",
    "        \n",
    "        # Запоминаем значения перевернутых ядер весов2\n",
    "        for s in range(self.stok_w1):\n",
    "            self.weights2_rot_180[s] = np.fliplr(self.weights2[s])\n",
    "            self.weights2_rot_180[s] = np.flipud(self.weights2_rot_180[s])\n",
    "        \n",
    "        # Поместим в центр нулевой матрицы большего размера, ошибку на предыдущем слое\n",
    "        for s in range(self.stok_w1):\n",
    "            self.hidden_errors0_temp[s, self.k-1:self.m_k1_1+self.k-1, self.k-1:self.m_k1_1+self.k-1] = E_hidden[s]\n",
    "            \n",
    "        # Проходим по этой матрице перевернутыми весами\n",
    "        for s in range(self.stok_w1):\n",
    "            for h in range(self.m_k_1):\n",
    "                for w in range(self.m_k_1):\n",
    "                    self.hidden_errors0[s,h,w] = np.sum(self.hidden_errors0_temp[s, h:h+self.k, w:w+self.k] * self.weights2_rot_180[s] \n",
    "                                                        * (1 - y1[h, w]) * (y1[h, w]))\n",
    "                                                \n",
    "        # Cумма ошибки (значения храним в 1м массиве)\n",
    "        for s in range(self.stok_w1-1):\n",
    "            self.hidden_errors0[0] = self.hidden_errors0[s] + self.hidden_errors0[s+1]\n",
    "        # Запоминаем в отдельную переменную сумму ошибок\n",
    "        hidden_errors0 = self.hidden_errors0[0]\n",
    "                \n",
    "                                            # ОБНОВЛЕНИЕ ВЕСОВ ПО СЛОЯМ\n",
    "        # Обновления весов ядер связей между скрытым и выходным слоями(скрытый слой2)\n",
    "        self.weights_out -= self.lr * np.dot((E * y3 * (1.0 - y3)), np.transpose(np.array(y2.flatten(), ndmin=2).T))\n",
    "        # обновления весов связей между скрытыми слоями             \n",
    "        for s in range(self.stok_w1):\n",
    "            for h in range(self.m_k_1-(self.m_k1_1)+1):\n",
    "                for w in range(self.m_k_1-(self.m_k1_1)+1):\n",
    "                    #Запоминаем локальную область скрытого слоя1\n",
    "                    inputs_t = y1[h:h+self.m_k1_1, w:w+self.m_k1_1]\n",
    "                    #Переворачиваем на 180 локальную область скрытого слоя1\n",
    "                    inputs_t = np.fliplr(inputs_t)\n",
    "                    inputs_t = np.flipud(inputs_t)\n",
    "                    #Обновляем веса скрытого слоя1\n",
    "                    self.weights2[s, h, w] -= np.sum(E_hidden[s] * inputs_t * self.lr)\n",
    "                    \n",
    "        # Обновления весов ядра связи между скрытым и входным слоем\n",
    "        for h in range(self.m-(self.m_k_1)+1):\n",
    "            for w in range(self.m-(self.m_k_1)+1):\n",
    "                #Запоминаем локальную область входных данных\n",
    "                inputs_t = inputs_x[h:h+self.m_k_1, w:w+self.m_k_1]\n",
    "                #Переворачиваем на 180 локальную область входных данных\n",
    "                inputs_t = np.fliplr(inputs_t)\n",
    "                inputs_t = np.flipud(inputs_t)\n",
    "                #Обновляем веса входных данных\n",
    "                self.weights[h, w] -=  np.sum(hidden_errors0 * inputs_t * self.lr)\n",
    "                    \n",
    "                    \n",
    "        #Запоминаем карту свойст скрытого слоя для их визуального просмотра            \n",
    "        self.hidden_outputs_image = y1\n",
    "        self.hidden_outputs_image1 = y2\n",
    "        pass\n",
    "\n",
    "                                        # МЕТОД ПРОГОНА СВОИХ ЗНАЧЕНИЙ ПО СЕТИ\n",
    "    # запросить нейронную сеть\n",
    "    def query(self, inputs_list): # Функция прогонки по слоям своих данных. Принемает свой набор тестовых данных\n",
    "        # Преобразовать список входов в 2D массив\n",
    "        inputs_x = np.array(inputs_list.reshape(self.m , self.m)) # матрица числа\n",
    "        \n",
    "        # вычислить сигналы в скрытом слое1 (карты сигналов скрытого слоя1). СВЁРТКА!\n",
    "        for h in range(self.m_k_1):\n",
    "            for w in range(self.m_k_1):\n",
    "                self.x1[h,w] = np.sum(inputs_x[h:h+self.k, w:w+self.k] * self.weights)\n",
    "        \n",
    "        # вычислить сигналы, возникающие из скрытого слоя0. сигмоида(сигнал скр.слоя)\n",
    "        y1 = self.activation_function(self.x1)\n",
    "        \n",
    "        # вычислить сигналы в скрытом слое2 (карты сигналов скрытого слоя2). СВЁРТКА!            \n",
    "        for s in range(self.stok_w1):\n",
    "            for h in range(self.m_k1_1):\n",
    "                for w in range(self.m_k1_1):\n",
    "                    self.x2[s,h,w] = np.sum(y1[h:h+self.k, w:w+self.k] * self.weights2[s])\n",
    "        \n",
    "        # вычислить сигналы, возникающие из скрытого слоя. сигмоида(Xhidden - сигнал скр.слоя)\n",
    "        y2 = self.activation_function(self.x2)\n",
    "        \n",
    "        # вычислить сигналы в окончательный выходной слой (матрица сигналов выходного слоя)\n",
    "        x3 = np.dot(self.weights_out, np.array(y2.flatten(), ndmin=2).T) # сигнал вых.слоя = вес скр. слоя * значение сигнала скр.слоя\n",
    "        # вычислить сигналы, исходящие из конечного выходного слоя. сигмоида(сигнал вых.слоя)\n",
    "        y3 = self.activation_function(x3)\n",
    "        \n",
    "        return y3      "
   ]
  },
  {
   "cell_type": "code",
   "execution_count": 4,
   "metadata": {
    "collapsed": true
   },
   "outputs": [],
   "source": [
    "# количество входных, скрытых и выходных узлов\n",
    "data_input = 784\n",
    "data_hidden = 3600 #20x20x9\n",
    "data_output = 10\n",
    "\n",
    "# скорость обучения\n",
    "learningrate = 0.05\n",
    "\n",
    "# Создать экземпляр нейронной сети\n",
    "n = neuron_Net(data_input, data_hidden, data_output, learningrate)"
   ]
  },
  {
   "cell_type": "code",
   "execution_count": 5,
   "metadata": {},
   "outputs": [
    {
     "name": "stderr",
     "output_type": "stream",
     "text": [
      "1: 100%|███████████████████████████████████████████████████████████████████████| 60000/60000 [1:05:32<00:00, 15.26it/s]\n"
     ]
    },
    {
     "name": "stdout",
     "output_type": "stream",
     "text": [
      "Время выполнения:  3932.404888153076  сек\n"
     ]
    }
   ],
   "source": [
    "                                                      # ОБУЧЕНИЕ\n",
    "# Зададим количество эпох\n",
    "epochs = 1\n",
    "\n",
    "start = time()\n",
    "# Прогон по обучающей выборке\n",
    "for e in range(epochs):\n",
    "    # Пройдите все записи в наборе тренировочных данных    \n",
    "    #for record in training_data_list:\n",
    "    for i in tqdm(training_data_list, desc = str(e+1)): # tqdm - используем интерактив состояния прогресса вычисления\n",
    "        # Получить входные данные числа\n",
    "        all_values = i.split(',') # split(',') - раздел строку на символы где запятая \",\" символ разделения\n",
    "        # Массив данных входа с масштабированием от 0,01 до 0,99\n",
    "        inputs_x = (np.asfarray(all_values[1:])/ 255.0 * 0.99) + 0.01 # Игнорируем нулевой индекс, где целевое значение\n",
    "        \n",
    "        # Получить целевое значение Y, (ответ - какое это число)\n",
    "        targets_Y = int(all_values[0])  # перевод символов в int, 0 элемент - целевое значение\n",
    "        \n",
    "        # создать целевые выходные значения (все 0.01, кроме нужной метки, которая равна 0.99)\n",
    "        targets_Y = np.zeros(data_output) + 0.01\n",
    "        \n",
    "        # Получить целевое значение Y, (ответ - какое это число). all_values[0] - целевая метка для этой записи\n",
    "        targets_Y[int(all_values[0])] = 0.99\n",
    "            \n",
    "        n.train(inputs_x, targets_Y) # наш метод train - обучение нейронной сети\n",
    "        \n",
    "        pass\n",
    "    pass\n",
    "\n",
    "time_out = time() - start\n",
    "print(\"Время выполнения: \", time_out, \" сек\" )"
   ]
  },
  {
   "cell_type": "code",
   "execution_count": 6,
   "metadata": {
    "collapsed": true
   },
   "outputs": [],
   "source": [
    "# Загрузить CSV-файл данных теста mnist в список\n",
    "test_data_file = open(\"mnist_dataset/mnist_test.csv\", 'r') # 'r' - файл для чтения, а не для записи.\n",
    "test_data_list = test_data_file.readlines()  # readlines() - читает все строки в файле в переменную test_data_list\n",
    "test_data_file.close() # закрываем фаел csv"
   ]
  },
  {
   "cell_type": "code",
   "execution_count": 7,
   "metadata": {},
   "outputs": [
    {
     "name": "stderr",
     "output_type": "stream",
     "text": [
      "100%|████████████████████████████████████████████████████████████████████████████| 10000/10000 [03:32<00:00, 47.11it/s]\n"
     ]
    }
   ],
   "source": [
    "# ПРОВЕРКА ЭФФЕКТИВНОСТИ НЕЙРОННОЙ СЕТИ\n",
    "# Массив показателей эффективности сети, изначально пустой\n",
    "efficiency = []\n",
    "\n",
    "# Прогон по всем записям в наборе тестовых данных\n",
    "#for i in test_data_list:\n",
    "for i in tqdm(test_data_list):\n",
    "    # Получить входные данные числа \n",
    "    all_values = i.split(',') # split(',') - раздел строку на символы где запятая \",\" символ разделения\n",
    "    # Правильный ответ, хранимый в нулевом индексе\n",
    "    targets_Y = int(all_values[0])\n",
    "    # Массив данных входа с масштабированием от 0,01 до 0,99\n",
    "    inputs_x = (np.asfarray(all_values[1:]) / 255.0 * 0.99) + 0.01 # Игнорируем нулевой индекс, где целевое значение\n",
    "\n",
    "    # Запросить ответ у сети\n",
    "    outputs_y = n.query(inputs_x) # Прогон по сети тестового значения из нашего файла\n",
    "    # Индекс самого высокого значения на матрице выхода, соответствует метке числа\n",
    "    label_y = np.argmax(outputs_y) # argmax возвращает индекс максимального элемента в выходном массиве\n",
    "    \n",
    "    # Добавить правильный или неправильный список\n",
    "    if (label_y == targets_Y): # Если индекс макс. знач. на выходе = целевому значению (0 индекс массива данных)\n",
    "        # Если ответ сети соответствует целевому значению, добавляем 1 в конец массива показателей эффективности\n",
    "        efficiency.append(1)\n",
    "    else:\n",
    "        # Если ответ сети не соответствует целевому значению, добавляем 0 в конец массива показателей эффективности\n",
    "        efficiency.append(0)\n",
    "        \n",
    "        pass\n",
    "    \n",
    "    pass"
   ]
  },
  {
   "cell_type": "code",
   "execution_count": 8,
   "metadata": {},
   "outputs": [
    {
     "name": "stdout",
     "output_type": "stream",
     "text": [
      "Производительность =  70.76 %\n"
     ]
    }
   ],
   "source": [
    "# Вычислить оценку производительности. Доля правильных ответов\n",
    "efficiency_map = np.asarray(efficiency) # asarray - преобразование списка в массив \n",
    "\n",
    "print ('Производительность = ', (efficiency_map.sum() / efficiency_map.size)*100, '%') # Среднее арифметическое"
   ]
  },
  {
   "cell_type": "code",
   "execution_count": 9,
   "metadata": {},
   "outputs": [
    {
     "data": {
      "image/png": "[encoded data removed]",
      "text/plain": [
       "<matplotlib.figure.Figure at 0x25baef36860>"
      ]
     },
     "metadata": {},
     "output_type": "display_data"
    },
    {
     "data": {
      "image/png": "[encoded data removed]",
      "text/plain": [
       "<matplotlib.figure.Figure at 0x25baef36160>"
      ]
     },
     "metadata": {},
     "output_type": "display_data"
    }
   ],
   "source": [
    "# Данные изображения в ядрах свертки скрытого слоя2\n",
    "# получить данные изображения с индексом \"0\". Для крупного масштаба.\n",
    "image_y1 = n.weights2[0]\n",
    "# вывод данных изображения участка с индексом \"0\".\n",
    "matplotlib.pyplot.imshow(image_y1, cmap='Greys', interpolation='None')\n",
    "\n",
    "fig = matplotlib.pyplot.figure(figsize=(10,6))\n",
    "for j in range(9):\n",
    "    ax = fig.add_subplot(3, 3, j+1)\n",
    "    ax.imshow(n.weights2[j], \n",
    "              cmap=matplotlib.cm.binary, interpolation='none')\n",
    "    matplotlib.pyplot.xticks(np.array([]))\n",
    "    matplotlib.pyplot.yticks(np.array([]))\n",
    "matplotlib.pyplot.show()"
   ]
  },
  {
   "cell_type": "code",
   "execution_count": 10,
   "metadata": {},
   "outputs": [
    {
     "data": {
      "image/png": "[encoded data removed]",
      "text/plain": [
       "<matplotlib.figure.Figure at 0x25bb138b208>"
      ]
     },
     "metadata": {},
     "output_type": "display_data"
    },
    {
     "data": {
      "image/png": "[encoded data removed]",
      "text/plain": [
       "<matplotlib.figure.Figure at 0x25bb13912e8>"
      ]
     },
     "metadata": {},
     "output_type": "display_data"
    }
   ],
   "source": [
    "# Данные изображения в признаках скрытого слоя2\n",
    "# получить данные изображения признака скрытого слоя2\n",
    "image_o2 = n.hidden_outputs_image1[0]\n",
    "# данные изображения участка\n",
    "matplotlib.pyplot.imshow(image_o2, cmap='Greys', interpolation='None')\n",
    "\n",
    "# получить данные изображения признака скрытого слоя1\n",
    "fig = matplotlib.pyplot.figure(figsize=(10,6))\n",
    "for j in range(9):\n",
    "    ax = fig.add_subplot(3, 3, j+1)\n",
    "    ax.imshow(n.hidden_outputs_image1[j], \n",
    "              cmap=matplotlib.cm.binary, interpolation='none')\n",
    "    matplotlib.pyplot.xticks(np.array([]))\n",
    "    matplotlib.pyplot.yticks(np.array([]))\n",
    "matplotlib.pyplot.show()"
   ]
  },
  {
   "cell_type": "code",
   "execution_count": 11,
   "metadata": {},
   "outputs": [
    {
     "data": {
      "text/plain": [
       "<matplotlib.image.AxesImage at 0x25bb17bb6a0>"
      ]
     },
     "execution_count": 11,
     "metadata": {},
     "output_type": "execute_result"
    },
    {
     "data": {
      "image/png": "[encoded data removed]",
      "text/plain": [
       "<matplotlib.figure.Figure at 0x25ba8036518>"
      ]
     },
     "metadata": {},
     "output_type": "display_data"
    }
   ],
   "source": [
    "# Данные изображения в ядрах свертки скрытого слоя1\n",
    "# получить данные изображения с индексом \"0\". Для крупного масштаба.\n",
    "image_y1 = n.weights\n",
    "# вывод данных изображения \n",
    "matplotlib.pyplot.imshow(image_y1, cmap='Greys', interpolation='None')"
   ]
  },
  {
   "cell_type": "code",
   "execution_count": 12,
   "metadata": {},
   "outputs": [
    {
     "data": {
      "text/plain": [
       "<matplotlib.image.AxesImage at 0x25bb18176d8>"
      ]
     },
     "execution_count": 12,
     "metadata": {},
     "output_type": "execute_result"
    },
    {
     "data": {
      "image/png": "[encoded data removed]",
      "text/plain": [
       "<matplotlib.figure.Figure at 0x25bb17641d0>"
      ]
     },
     "metadata": {},
     "output_type": "display_data"
    }
   ],
   "source": [
    "# Данные изображения в признаках скрытого слоя1\n",
    "# получить данные изображения признака скрытого слоя1\n",
    "image_o2 = n.hidden_outputs_image\n",
    "# данные изображения участка\n",
    "matplotlib.pyplot.imshow(image_o2, cmap='Greys', interpolation='None')"
   ]
  },
  {
   "cell_type": "code",
   "execution_count": null,
   "metadata": {
    "collapsed": true
   },
   "outputs": [],
   "source": []
  }
 ],
 "metadata": {
  "kernelspec": {
   "display_name": "Python 3",
   "language": "python",
   "name": "python3"
  },
  "language_info": {
   "codemirror_mode": {
    "name": "ipython",
    "version": 3
   },
   "file_extension": ".py",
   "mimetype": "text/x-python",
   "name": "python",
   "nbconvert_exporter": "python",
   "pygments_lexer": "ipython3",
   "version": "3.6.3"
  }
 },
 "nbformat": 4,
 "nbformat_minor": 1
}
