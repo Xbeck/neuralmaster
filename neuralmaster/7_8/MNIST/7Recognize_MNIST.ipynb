{
 "cells": [
  {
   "cell_type": "code",
   "execution_count": 1,
   "metadata": {
    "collapsed": true
   },
   "outputs": [],
   "source": [
    "import numpy as np\n",
    "# библиотека для вывода на консоль массивов\n",
    "import matplotlib.pyplot\n",
    "# убедитесь, что участки находятся внутри этой записной книжки, а не внешнего окна\n",
    "%matplotlib inline\n",
    "#plt.show() # Вместо %matplotlib inline в других средах, не notebook\n",
    "from time import time, sleep #Для замера времени выполнения функций\n",
    "from tqdm import tqdm #Для вывода прогресса вычисления функций\n",
    "# glob помогает выбрать несколько файлов, используя шаблоны\n",
    "import glob\n",
    "# помощник для загрузки данных из файлов изображений PNG\n",
    "import scipy.misc"
   ]
  },
  {
   "cell_type": "code",
   "execution_count": 2,
   "metadata": {
    "collapsed": true
   },
   "outputs": [],
   "source": [
    "# Загрузить mnist тренировочные данные в формате CSV \n",
    "training_data_file = open(\"MNIST_dataset/mnist_train.csv\", 'r') # 'r' - открываем файл для чтения\n",
    "training_data_list = training_data_file.readlines() # readlines() - читает все строки в файле в переменную training_data_list\n",
    "training_data_file.close() # закрываем фаел csv"
   ]
  },
  {
   "cell_type": "code",
   "execution_count": 3,
   "metadata": {
    "collapsed": true
   },
   "outputs": [],
   "source": [
    "# Определение класса нейронной сети\n",
    "class neuron_Net:\n",
    "    \n",
    "    \n",
    "    # Инициализация весов нейронной сети\n",
    "    def __init__(self, input_num, neuron_num, output_num, learningrate): #констр.(входной слой, скрытый слой, выходной слой)\n",
    "                                                # МАТРИЦЫ ВЕСОВ\n",
    "        # Задаем матрицы весов как случайное\n",
    "        self.weights = np.random.normal(0.0, pow(input_num, -0.5), (neuron_num, input_num))\n",
    "        self.weights_out = np.random.normal(0.0, pow(neuron_num, -0.5), (output_num, neuron_num))\n",
    "        # Можно задать веса таким образом\n",
    "        #self.weights = (numpy.random.rand(neuron_num, input_num) -0.5) \n",
    "        #self.weights_out = (numpy.random.rand(output_num, neuron_num) -0.5)\n",
    "\n",
    "        # скорость обучения\n",
    "        self.lr = learningrate\n",
    "        \n",
    "        pass\n",
    "\n",
    "    \n",
    "    # Обучение нейронной сети\n",
    "    def train(self, inputs_list, targets_list): # принемает входной список данных,targets ответы\n",
    "        # Преобразовать список входов и ответов в вертикальный массив. .T - транспонирование\n",
    "        inputs_x = np.array(inputs_list, ndmin=2).T # матрица числа\n",
    "        targets_Y = np.array(targets_list, ndmin=2).T # матрица ответов какое это число\n",
    "        \n",
    "                                        # ВЫЧИСЛЕНИЕ СИГНАЛОВ ПО СЛОЯМ\n",
    "        # Вычислить сигналы в нейронах скрытого слоя. Взвешенная сумма.\n",
    "        x1 = np.dot(self.weights, inputs_x) # dot - умножение матриц X = W*I = weights * inputs\n",
    "        \n",
    "        # вычислить сигналы, возникающие из скрытого слоя. сигмоида(Xhidden - сигнал скр.слоя)\n",
    "        y1 = 1/(1+np.exp(-x1))\n",
    "        \n",
    "        # вычислить сигналы в окончательном выходном слое (матрица сигналов выходного слоя)\n",
    "        x2 = np.dot(self.weights_out, y1) \n",
    "        # вычислить сигналы, исходящие из конечного выходного слоя. сигмоида(Xoutputs - сигнал вых.слоя)\n",
    "        y2 = 1/(1+np.exp(-x2))\n",
    "        \n",
    "                                            # ВЫЧИСЛЕНИЕ ОШИБКИ ПО СЛОЯМ\n",
    "        #  Ошибка выходного слоя E = -(цель - фактическое значение) \n",
    "        E = -(targets_Y - y2)\n",
    "        # Ошибка скрытого слоя\n",
    "        E_hidden = np.dot(self.weights_out.T, E) \n",
    "        \n",
    "                                            # ОБНОВЛЕНИЕ ВЕСОВ ПО СЛОЯМ\n",
    "        # Меняем веса исходящие из скрытого слоя по каждой связи\n",
    "        self.weights_out -= self.lr * np.dot((E * y2 * (1.0 - y2)), np.transpose(y1))\n",
    "        \n",
    "        # Меняем веса исходящие из входного слоя по каждой связи\n",
    "        self.weights -= self.lr * np.dot((E_hidden * y1 * (1.0 - y1)), np.transpose(inputs_x))\n",
    "        \n",
    "        pass\n",
    "\n",
    "                                        # МЕТОД ПРОГОНА СВОИХ ЗНАЧЕНИЙ ПО СЕТИ\n",
    "   # Метод прогона тестовых значений\n",
    "    def query(self, inputs_list): # Принимает свой набор тестовых данных\n",
    "        # Преобразовать список входов в вертикальный массив. \n",
    "        inputs_x = np.array(inputs_list, ndmin=2).T \n",
    "        \n",
    "        # Вычислить сигналы в нейронах скрытого слоя. Взвешенная сумма.\n",
    "        x1 = np.dot(self.weights, inputs_x) # dot - умножение матриц X = W*I = weights * inputs\n",
    "        # Вычислить сигналы, выходящие из нейрона. Функция активации - сигмоида(x)\n",
    "        y1 = 1/(1+np.exp(-x1))\n",
    "        # Вычислить сигналы в нейронах выходного слоя. Взвешенная сумма.\n",
    "        x2 = np.dot(self.weights_out, y1) \n",
    "        # вычислить сигналы, исходящие из конечного выходного слоя. Функция активации - сигмоида(x)\n",
    "        y2 = 1/(1+np.exp(-x2))\n",
    "        \n",
    "        return y2                                   "
   ]
  },
  {
   "cell_type": "code",
   "execution_count": 4,
   "metadata": {
    "collapsed": true
   },
   "outputs": [],
   "source": [
    "                                        # ЗАДАЁМ ПАРАМЕТРЫ СЕТИ\n",
    "# Количество входных данных, нейронов\n",
    "data_input = 784\n",
    "data_neuron = 220\n",
    "data_output = 10\n",
    "\n",
    "# Cкорость обучения\n",
    "learningrate = 0.15\n",
    "\n",
    "# Создать экземпляр нейронной сети\n",
    "n = neuron_Net(data_input, data_neuron, data_output, learningrate)"
   ]
  },
  {
   "cell_type": "code",
   "execution_count": 5,
   "metadata": {},
   "outputs": [
    {
     "name": "stderr",
     "output_type": "stream",
     "text": [
      "1: 100%|████████████████████████████████████████████████████████████████████████| 60000/60000 [01:36<00:00, 621.06it/s]\n",
      "2: 100%|████████████████████████████████████████████████████████████████████████| 60000/60000 [01:35<00:00, 629.37it/s]\n",
      "3: 100%|████████████████████████████████████████████████████████████████████████| 60000/60000 [01:35<00:00, 627.15it/s]\n"
     ]
    },
    {
     "name": "stdout",
     "output_type": "stream",
     "text": [
      "Время выполнения:  287.62470269203186  сек\n"
     ]
    }
   ],
   "source": [
    "                                                # ОБУЧЕНИЕ\n",
    "# Зададим количество эпох\n",
    "epochs = 3\n",
    "\n",
    "start = time()\n",
    "# Прогон по обучающей выборке\n",
    "for e in range(epochs):\n",
    "    # Пройдите все записи в наборе тренировочных данных    \n",
    "    #for record in training_data_list:\n",
    "    for i in tqdm(training_data_list, desc = str(e+1)): # tqdm - используем интерактив состояния прогресса вычисления\n",
    "        # Получить входные данные числа\n",
    "        all_values = i.split(',') # split(',') - раздел строку на символы где запятая \",\" символ разделения\n",
    "        # Массив данных входа с масштабированием от 0,01 до 0,99\n",
    "        inputs_x = (np.asfarray(all_values[1:])/ 255.0 * 0.99) + 0.01 # Игнорируем нулевой индекс, где целевое значение\n",
    "        \n",
    "        # Получить целевое значение Y, (ответ - какое это число)\n",
    "        targets_Y = int(all_values[0])  # перевод символов в int, 0 элемент - целевое значение\n",
    "        \n",
    "        # создать целевые выходные значения (все 0.01, кроме нужной метки, которая равна 0.99)\n",
    "        targets_Y = np.zeros(data_output) + 0.01\n",
    "        \n",
    "        # Получить целевое значение Y, (ответ - какое это число). all_values[0] - целевая метка для этой записи\n",
    "        targets_Y[int(all_values[0])] = 0.99\n",
    "            \n",
    "        n.train(inputs_x, targets_Y) # наш метод train - обучение нейронной сети\n",
    "        \n",
    "        pass\n",
    "    pass\n",
    "\n",
    "time_out = time() - start\n",
    "print(\"Время выполнения: \", time_out, \" сек\" )"
   ]
  },
  {
   "cell_type": "code",
   "execution_count": 6,
   "metadata": {
    "collapsed": true
   },
   "outputs": [],
   "source": [
    "                                    # ТЕСТИРОВАНИЕ ОБУЧЕННОЙ СЕТИ\n",
    "# Загрузить тестовый CSV-файл\n",
    "test_data_file = open(\"MNIST_dataset/mnist_test.csv\", 'r') # 'r' - открываем файл для чтения\n",
    "test_data_list = test_data_file.readlines()  # readlines() - читает все строки в файле в переменную test_data_list\n",
    "test_data_file.close() # закрываем файл csv"
   ]
  },
  {
   "cell_type": "code",
   "execution_count": 7,
   "metadata": {
    "collapsed": true
   },
   "outputs": [],
   "source": [
    "                                    # ПРОВЕРКА ЭФФЕКТИВНОСТИ НЕЙРОННОЙ СЕТИ\n",
    "# Массив показателей эффективности сети, изначально пустой\n",
    "efficiency = []\n",
    "\n",
    "# Прогон по всем записям в наборе тестовых данных\n",
    "for i in test_data_list:\n",
    "    # Получить входные данные числа \n",
    "    all_values = i.split(',') # split(',') - раздел строку на символы где запятая \",\" символ разделения\n",
    "    # Правильный ответ, хранимый в нулевом индексе\n",
    "    targets_Y = int(all_values[0])\n",
    "    # Массив данных входа с масштабированием от 0,01 до 0,99\n",
    "    inputs_x = (np.asfarray(all_values[1:]) / 255.0 * 0.99) + 0.01 # Игнорируем нулевой индекс, где целевое значение\n",
    "\n",
    "    # Запросить ответ у сети\n",
    "    outputs_y = n.query(inputs_x) # Прогон по сети тестового значения из нашего файла\n",
    "    # Индекс самого высокого значения на матрице выхода, соответствует метке числа\n",
    "    label_y = np.argmax(outputs_y) # argmax возвращает индекс максимального элемента в выходном массиве\n",
    "    \n",
    "    # Добавить правильный или неправильный список\n",
    "    if (label_y == targets_Y): # Если индекс макс. знач. на выходе = целевому значению (0 индекс массива данных)\n",
    "        # Если ответ сети соответствует целевому значению, добавляем 1 в конец массива показателей эффективности\n",
    "        efficiency.append(1)\n",
    "    else:\n",
    "        # Если ответ сети не соответствует целевому значению, добавляем 0 в конец массива показателей эффективности\n",
    "        efficiency.append(0)\n",
    "        \n",
    "        pass\n",
    "    \n",
    "    pass"
   ]
  },
  {
   "cell_type": "code",
   "execution_count": 8,
   "metadata": {},
   "outputs": [
    {
     "name": "stdout",
     "output_type": "stream",
     "text": [
      "Производительность =  97.09 %\n"
     ]
    }
   ],
   "source": [
    "# Вычислить оценку производительности. Доля правильных ответов\n",
    "efficiency_map = np.asarray(efficiency) # asarray - преобразование списка в массив \n",
    "\n",
    "print ('Производительность = ', (efficiency_map.sum() / efficiency_map.size)*100, '%') # Среднее арифметическое "
   ]
  },
  {
   "cell_type": "code",
   "execution_count": 57,
   "metadata": {},
   "outputs": [
    {
     "name": "stdout",
     "output_type": "stream",
     "text": [
      "Имя файла:  my_image\\_my_0.png\n"
     ]
    },
    {
     "name": "stderr",
     "output_type": "stream",
     "text": [
      "D:\\Anaconda_3\\Anaconda3\\lib\\site-packages\\ipykernel_launcher.py:15: DeprecationWarning: `imread` is deprecated!\n",
      "`imread` is deprecated in SciPy 1.0.0, and will be removed in 1.2.0.\n",
      "Use ``imageio.imread`` instead.\n",
      "  from ipykernel import kernelapp as app\n"
     ]
    },
    {
     "name": "stdout",
     "output_type": "stream",
     "text": [
      "Имя файла:  my_image\\_my_1.png\n",
      "Имя файла:  my_image\\_my_2.png\n",
      "Имя файла:  my_image\\_my_3.png\n",
      "Имя файла:  my_image\\_my_4.png\n",
      "Имя файла:  my_image\\_my_5.png\n",
      "Имя файла:  my_image\\_my_6.png\n",
      "Имя файла:  my_image\\_my_7.png\n",
      "Имя файла:  my_image\\_my_8.png\n"
     ]
    }
   ],
   "source": [
    "                                # СОБСТВЕННЫЙ НАБОР ИЗОБРАЖЕНИЙ ДЛЯ ТЕСТА\n",
    "my_dataset = [] # Для хранения данных и целевых значений \n",
    "\n",
    "# Загрузить данные изображения в формате PNG, как установить тестовые данные\n",
    "for image_file in glob.glob('my_image/_my_?.png'): # проход по файлам изобр. в папке my_images\n",
    "    #glob - из библиотеки glob, помогает выбрать сразу несколько файлов из папки\n",
    "    \n",
    "    # Метка имени числа\n",
    "    label_y = int(image_file[-5:-4]) # хранит число в файле ?.png, -5 это ответ какое число '?'\n",
    "    # от -5 до -4 это будет символ '?', т.е метка числа\n",
    "    \n",
    "    # Загрузить данные изображения из png файлов в массив\n",
    "    print ('Имя файла: ', image_file) # вывод пути и имени открытого файла\n",
    "    \n",
    "    image_list = scipy.misc.imread(image_file, flatten=True) #“flatten=True” (“выровнять=True) ”- превращает\n",
    "    #изображения в простой массив чисел с плавающей запятой\n",
    "    \n",
    "    # Изменить формат из 28x28 в список 784 значений, инвертировать значения\n",
    "    image_data  = 255.0 - image_list.reshape(784) #преобразует массив из квадрата 28x28 в длинный список значений\n",
    "    #вычитание значений массива из 255.0. т.к обычно '0' означает черное, а '255' означает белое, но набор данных MNIST  \n",
    "    #имеет инверсные значения, поэтому мы должны их перевернуть\n",
    "    \n",
    "    # Вносим данные шкалу с диапазоном от 0 до 1\n",
    "    image_data = (image_data / 255.0 ) # массив данных входа с масштабированием от 0 до 1   \n",
    "    \n",
    "    # Добавить метку числа и данные изображения к общему набору данных\n",
    "    my_data = np.append(label_y, image_data)\n",
    "    my_dataset.append(my_data) \n",
    "    \n",
    "    pass"
   ]
  },
  {
   "cell_type": "code",
   "execution_count": 60,
   "metadata": {
    "scrolled": true
   },
   "outputs": [
    {
     "name": "stdout",
     "output_type": "stream",
     "text": [
      "[[  6.66671197e-01]\n",
      " [  2.56659427e-03]\n",
      " [  9.32429328e-03]\n",
      " [  6.77700446e-05]\n",
      " [  1.92683835e-03]\n",
      " [  2.02324562e-03]\n",
      " [  3.13702331e-03]\n",
      " [  8.52300221e-03]\n",
      " [  2.36677373e-04]\n",
      " [  4.81128855e-03]]\n",
      "Минимальное значение:  6.77700445779e-05\n",
      "Максимальное значение:  0.666671197018\n",
      "\n",
      "Целевое значение:  0\n",
      "Угадал!!! :-)))\n"
     ]
    },
    {
     "data": {
      "image/png": "[encoded data removed]",
      "text/plain": [
       "<matplotlib.figure.Figure at 0x200aa221f60>"
      ]
     },
     "metadata": {},
     "output_type": "display_data"
    }
   ],
   "source": [
    "                                # ПРОВЕРКА СЕТИ НА СОБСТВЕННЫХ ДАННЫХ ИЗОБРАЖЕНИЙ\n",
    "\n",
    "# запись для тестирования\n",
    "room_choices = 0\n",
    "\n",
    "# Изображение участка\n",
    "matplotlib.pyplot.imshow(my_dataset[room_choices][1:].reshape(28,28), cmap='Greys', interpolation='None')\n",
    "# my_dataset- наш собственный набор тестовых данных\n",
    "\n",
    "# Правильный ответ в нулевом столбце\n",
    "correct_label = my_dataset[room_choices][0] # в строках номер файла из папки собственных данных, 0 толбец - ответ какое число\n",
    "\n",
    "# Входные значения\n",
    "input_x = my_dataset[room_choices][1:] # значение числа без ответа\n",
    "\n",
    "# Запросить сеть\n",
    "output_y = n.query(input_x) # прогоняем тестовую выборку по сети\n",
    "print (output_y) # вывод по выходу сети\n",
    "\n",
    "print('Минимальное значение: ', np.min(output_y)) # вывод мин знач элемента на выходе\n",
    "print('Максимальное значение: ', np.max(output_y)) # вывод макс знач элемента на выходе\n",
    "\n",
    "# Индекс самого высокого значения на выходе сети, соответствует метке\n",
    "number = np.argmax(output_y)\n",
    "print('\\nЦелевое значение: ', number)\n",
    "\n",
    "# Вывод правильный или неправильный ответ\n",
    "if (number == correct_label): # если макс знач на выходе label = ответу (0 индекс из массива) correct_label\n",
    "    print ('Угадал!!! :-)))') \n",
    "else:\n",
    "    print ('Не угадал! :-(((') \n",
    "    \n",
    "    pass"
   ]
  },
  {
   "cell_type": "code",
   "execution_count": null,
   "metadata": {
    "collapsed": true
   },
   "outputs": [],
   "source": []
  }
 ],
 "metadata": {
  "kernelspec": {
   "display_name": "Python 3",
   "language": "python",
   "name": "python3"
  },
  "language_info": {
   "codemirror_mode": {
    "name": "ipython",
    "version": 3
   },
   "file_extension": ".py",
   "mimetype": "text/x-python",
   "name": "python",
   "nbconvert_exporter": "python",
   "pygments_lexer": "ipython3",
   "version": "3.6.3"
  }
 },
 "nbformat": 4,
 "nbformat_minor": 1
}
