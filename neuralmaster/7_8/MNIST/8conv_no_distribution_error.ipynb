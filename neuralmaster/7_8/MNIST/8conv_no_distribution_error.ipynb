{
 "cells": [
  {
   "cell_type": "code",
   "execution_count": 1,
   "metadata": {
    "collapsed": true
   },
   "outputs": [],
   "source": [
    "import numpy as np\n",
    "# библиотека для вывода на консоль массивов\n",
    "import matplotlib.pyplot\n",
    "# убедитесь, что участки находятся внутри этой записной книжки, а не внешнего окна\n",
    "%matplotlib inline\n",
    "#plt.show() # Вместо %matplotlib inline в других средах, не notebook\n",
    "from time import time, sleep #Для замера времени выполнения функций\n",
    "from tqdm import tqdm #Для вывода прогресса вычисления функций\n",
    "# glob помогает выбрать несколько файлов, используя шаблоны\n",
    "import glob\n",
    "# помощник для загрузки данных из файлов изображений PNG\n",
    "import scipy.misc"
   ]
  },
  {
   "cell_type": "code",
   "execution_count": 2,
   "metadata": {
    "collapsed": true
   },
   "outputs": [],
   "source": [
    "# Загрузить mnist тренировочные данные в формате CSV \n",
    "training_data_file = open(\"MNIST_dataset/mnist_train.csv\", 'r') # 'r' - открываем файл для чтения\n",
    "training_data_list = training_data_file.readlines() # readlines() - читает все строки в файле в переменную training_data_list\n",
    "training_data_file.close() # закрываем фаел csv"
   ]
  },
  {
   "cell_type": "code",
   "execution_count": 3,
   "metadata": {
    "collapsed": true
   },
   "outputs": [],
   "source": [
    "# Определение класса нейронной сети\n",
    "class neuron_Net:\n",
    "        \n",
    "    # Инициализация весов нейронной сети\n",
    "    def __init__(self, input_num, hidden_num, output_num, learningrate): #констр.(входной слой, скрытый слой, выходной слой)\n",
    "                                    #РАЗМЕРНОСТЬ ВХОДНОГО МАССИВА И ПАРАМЕТРЫ ЯДЕР СВЕРТКИ\n",
    "        self.m = 28 #Размер входного массива(ДхШ)\n",
    "        self.k = 5 #Размер ядра (ДхШ)\n",
    "        self.m_k_1 = (self.m-self.k)+1 #Размер карты свойств скрытого слоя (ДхШ)\n",
    "        self.m_k = self.m-self.k\n",
    "        self.stok_w = 9 #Число ядер свертки\n",
    "        self.stob_w = self.k*self.k #Количество элементов 1го ядра свертки\n",
    "        self.m_k_stw = self.stok_w*self.m_k_1*self.m_k_1 #Общее кол-во элементов скрытого слоя \n",
    "        self.x1 = np.zeros((self.stok_w, self.m_k_1, self.m_k_1)) #Массив скрытого слоя\n",
    "        \n",
    "        #Для вывода карт свойст скрытого слоя  \n",
    "        self.hidden_outputs_image = np.zeros((self.stok_w, self.m_k_1, self.m_k_1))\n",
    "                                                   \n",
    "                                            # МАТРИЦЫ ВЕСОВ\n",
    "        self.weights = np.random.normal(0.0, pow(self.stob_w, -0.5), (self.stok_w, self.k, self.k))        \n",
    "        self.weights_out = np.random.normal(0.0, pow(hidden_num, -0.5), (output_num, hidden_num))\n",
    "\n",
    "        # скорость обучения\n",
    "        self.lr = learningrate\n",
    "        \n",
    "        # функция активации-функция сигмоида\n",
    "        self.activation_function = lambda x: scipy.special.expit(x)\n",
    "        \n",
    "        pass\n",
    "\n",
    "    \n",
    "    # обучение нейронной сети\n",
    "    def train(self, inputs_list, targets_list): # принемает входной список данных,targets ответы\n",
    "        # Преобразовать список входов в 2D массив\n",
    "        inputs_x = np.array(inputs_list.reshape(self.m , self.m)) # матрица числа\n",
    "        # Преобразовать список ответов в вертикальный массив. .T - транспонирование\n",
    "        targets_Y = np.array(targets_list, ndmin=2).T # матрица ответов какое это число\n",
    "        \n",
    "        \n",
    "                                        # ВЫЧИСЛЕНИЕ СИГНАЛОВ ПО СЛОЯМ\n",
    "        # Вычислить сигналы в скрытом слое (карты сигналов скрытого слоя). СВЁРТКА!\n",
    "        for s in range(self.stok_w):\n",
    "            for h in range(self.m_k_1):\n",
    "                for w in range(self.m_k_1):\n",
    "                    self.x1[s,h,w] = np.sum(inputs_x[h:h+self.k, w:w+self.k] * self.weights[s])\n",
    "        \n",
    "        # вычислить сигналы, возникающие из скрытого слоя. сигмоида(сигнал скр.слоя)\n",
    "        #y1 = 1/(1+np.exp(-self.x1))\n",
    "        y1 = self.activation_function(self.x1)\n",
    "        \n",
    "        # вычислить сигналы в окончательный выходной слой (матрица сигналов выходного слоя)\n",
    "        x2 = np.dot(self.weights_out, np.array(y1.flatten(), ndmin=2).T) # сигнал вых.слоя. y1.flatten() - преобразование карт скрытого слоя в вертикальный массив (5184 элемента)\n",
    "        # вычислить сигналы, исходящие из конечного выходного слоя. сигмоида(Xoutputs - сигнал вых.слоя)\n",
    "        #y2 = 1/(1+np.exp(-x2))\n",
    "        y2 = self.activation_function(x2)\n",
    "        \n",
    "                                            # ВЫЧИСЛЕНИЕ ОШИБКИ ПО СЛОЯМ\n",
    "        #  ошибка выходного слоя является (цель - фактическое) \n",
    "        E = -(targets_Y - y2)\n",
    "        # Ошибка скрытого слоя\n",
    "        E_hidden = np.dot(self.weights_out.T, E)\n",
    "        E_hidden = E_hidden.reshape(self.stok_w, self.m_k_1, self.m_k_1) # Преобразуем в 3D массив\n",
    "        \n",
    "                                            # ОБНОВЛЕНИЕ ВЕСОВ ПО СЛОЯМ\n",
    "        # Меняем веса исходящие из скрытого слоя по каждой связи\n",
    "        self.weights_out -= self.lr * np.dot((E * y2 * (1.0 - y2)), np.transpose(np.array(y1.flatten(), ndmin=2).T))\n",
    "       \n",
    "        # Меняем веса ядер свертки исходящие из входного слоя           \n",
    "        for s in range(self.stok_w):\n",
    "            #for h in range(self.m-(self.m_k_1)+1):\n",
    "            for h in range(self.k):\n",
    "                #for w in range(self.m-(self.m_k_1)+1):\n",
    "                for w in range(self.k):\n",
    "                    #Сохраняем область входных данных в отдельную область\n",
    "                    inputs_t = inputs_x[h:h+self.m_k_1, w:w+self.m_k_1] \n",
    "                    # Переворачиваем отдельную область входных данныхна 180\n",
    "                    inputs_t = np.fliplr(inputs_t) \n",
    "                    inputs_t = np.flipud(inputs_t)\n",
    "                    # Обновляем веса\n",
    "                    self.weights[s, h, w] -= np.sum(E_hidden[s] * inputs_t * self.lr)\n",
    "                    \n",
    "        #Запоминаем карту свойст скрытого слоя для просмотра            \n",
    "        self.hidden_outputs_image = y1\n",
    "        \n",
    "        pass\n",
    "\n",
    "                                        # МЕТОД ПРОГОНА СВОИХ ЗНАЧЕНИЙ ПО СЕТИ\n",
    "    # запросить нейронную сеть\n",
    "    def query(self, inputs_list): # Функция прогонки по слоям своих данных. Принемает свой набор тестовых данных\n",
    "        # Преобразовать список входов в 2D массив\n",
    "        inputs_x = np.array(inputs_list.reshape(self.m , self.m)) # матрица числа\n",
    "        # Вычислить сигналы в скрытом слое (карты сигналов скрытого слоя). СВЁРТКА!\n",
    "        for s in range(self.stok_w):\n",
    "            for h in range(self.m_k_1):\n",
    "                for w in range(self.m_k_1):\n",
    "                    self.x1[s,h,w] = np.sum(inputs_x[h:h+self.k, w:w+self.k] * self.weights[s])\n",
    "        \n",
    "        # вычислить сигналы, возникающие из скрытого слоя. сигмоида(сигнал скр.слоя)\n",
    "        #y1 = 1/(1+np.exp(-self.x1))\n",
    "        y1 = self.activation_function(self.x1)\n",
    "        \n",
    "        # вычислить сигналы в окончательный выходной слой (матрица сигналов выходного слоя)\n",
    "        x2 = np.dot(self.weights_out, np.array(y1.flatten(), ndmin=2).T) # сигнал вых.слоя. y1.flatten() - преобразование карт скрытого слояв вертикальный масив (5184 элемента)\n",
    "        # вычислить сигналы, исходящие из конечного выходного слоя. сигмоида(Xoutputs - сигнал вых.слоя)\n",
    "        #y2 = 1/(1+np.exp(-x2))\n",
    "        y2 = self.activation_function(x2)\n",
    "        \n",
    "        return y2 "
   ]
  },
  {
   "cell_type": "code",
   "execution_count": 4,
   "metadata": {
    "collapsed": true
   },
   "outputs": [],
   "source": [
    "# количество входных, скрытых и выходных узлов\n",
    "data_input = 784\n",
    "data_hidden = 5184\n",
    "data_output = 10\n",
    "\n",
    "# скорость обучения\n",
    "learningrate = 0.05\n",
    "\n",
    "# Создать экземпляр нейронной сети\n",
    "n = neuron_Net(data_input, data_hidden, data_output, learningrate)"
   ]
  },
  {
   "cell_type": "code",
   "execution_count": 5,
   "metadata": {},
   "outputs": [
    {
     "name": "stderr",
     "output_type": "stream",
     "text": [
      "1: 100%|█████████████████████████████████████████████████████████████████████████| 60000/60000 [28:16<00:00, 35.37it/s]\n",
      "2: 100%|█████████████████████████████████████████████████████████████████████████| 60000/60000 [28:31<00:00, 35.06it/s]\n",
      "3: 100%|█████████████████████████████████████████████████████████████████████████| 60000/60000 [32:32<00:00, 30.73it/s]\n",
      "4: 100%|█████████████████████████████████████████████████████████████████████████| 60000/60000 [30:50<00:00, 32.43it/s]\n",
      "5: 100%|█████████████████████████████████████████████████████████████████████████| 60000/60000 [29:08<00:00, 34.32it/s]\n"
     ]
    },
    {
     "name": "stdout",
     "output_type": "stream",
     "text": [
      "Время выполнения:  8958.353902578354  сек\n"
     ]
    }
   ],
   "source": [
    "                                                      # ОБУЧЕНИЕ\n",
    "# Зададим количество эпох\n",
    "epochs = 5\n",
    "\n",
    "start = time()\n",
    "# Прогон по обучающей выборке\n",
    "for e in range(epochs):\n",
    "    # Пройдите все записи в наборе тренировочных данных    \n",
    "    #for record in training_data_list:\n",
    "    for i in tqdm(training_data_list, desc = str(e+1)): # tqdm - используем интерактив состояния прогресса вычисления\n",
    "        # Получить входные данные числа\n",
    "        all_values = i.split(',') # split(',') - раздел строку на символы где запятая \",\" символ разделения\n",
    "        # Массив данных входа с масштабированием от 0,01 до 0,99\n",
    "        inputs_x = (np.asfarray(all_values[1:])/ 255.0 * 0.99) + 0.01 # Игнорируем нулевой индекс, где целевое значение\n",
    "        \n",
    "        # Получить целевое значение Y, (ответ - какое это число)\n",
    "        targets_Y = int(all_values[0])  # перевод символов в int, 0 элемент - целевое значение\n",
    "        \n",
    "        # создать целевые выходные значения (все 0.01, кроме нужной метки, которая равна 0.99)\n",
    "        targets_Y = np.zeros(data_output) + 0.01\n",
    "        \n",
    "        # Получить целевое значение Y, (ответ - какое это число). all_values[0] - целевая метка для этой записи\n",
    "        targets_Y[int(all_values[0])] = 0.99\n",
    "            \n",
    "        n.train(inputs_x, targets_Y) # наш метод train - обучение нейронной сети\n",
    "        \n",
    "        pass\n",
    "    pass\n",
    "\n",
    "time_out = time() - start\n",
    "print(\"Время выполнения: \", time_out, \" сек\" )"
   ]
  },
  {
   "cell_type": "code",
   "execution_count": 6,
   "metadata": {
    "collapsed": true
   },
   "outputs": [],
   "source": [
    "# Загрузить CSV-файл данных теста mnist в список\n",
    "test_data_file = open(\"mnist_dataset/mnist_test.csv\", 'r') # 'r' - файл для чтения, а не для записи.\n",
    "test_data_list = test_data_file.readlines()  # readlines() - читает все строки в файле в переменную test_data_list\n",
    "test_data_file.close() # закрываем фаел csv"
   ]
  },
  {
   "cell_type": "code",
   "execution_count": 7,
   "metadata": {
    "collapsed": true
   },
   "outputs": [],
   "source": [
    "                                # ПРОВЕРКА ЭФФЕКТИВНОСТИ НЕЙРОННОЙ СЕТИ\n",
    "# Массив показателей эффективности сети, изначально пустой\n",
    "efficiency = []\n",
    "\n",
    "# Прогон по всем записям в наборе тестовых данных\n",
    "for i in test_data_list:\n",
    "    # Получить входные данные числа \n",
    "    all_values = i.split(',') # split(',') - раздел строку на символы где запятая \",\" символ разделения\n",
    "    # Правильный ответ, хранимый в нулевом индексе\n",
    "    targets_Y = int(all_values[0])\n",
    "    # Массив данных входа с масштабированием от 0,01 до 0,99\n",
    "    inputs_x = (np.asfarray(all_values[1:]) / 255.0 * 0.99) + 0.01 # Игнорируем нулевой индекс, где целевое значение\n",
    "\n",
    "    # Запросить ответ у сети\n",
    "    outputs_y = n.query(inputs_x) # Прогон по сети тестового значения из нашего файла\n",
    "    # Индекс самого высокого значения на матрице выхода, соответствует метке числа\n",
    "    label_y = np.argmax(outputs_y) # argmax возвращает индекс максимального элемента в выходном массиве\n",
    "    \n",
    "    # Добавить правильный или неправильный список\n",
    "    if (label_y == targets_Y): # Если индекс макс. знач. на выходе = целевому значению (0 индекс массива данных)\n",
    "        # Если ответ сети соответствует целевому значению, добавляем 1 в конец массива показателей эффективности\n",
    "        efficiency.append(1)\n",
    "    else:\n",
    "        # Если ответ сети не соответствует целевому значению, добавляем 0 в конец массива показателей эффективности\n",
    "        efficiency.append(0)\n",
    "        \n",
    "        pass\n",
    "    \n",
    "    pass"
   ]
  },
  {
   "cell_type": "code",
   "execution_count": 8,
   "metadata": {},
   "outputs": [
    {
     "name": "stdout",
     "output_type": "stream",
     "text": [
      "Производительность =  88.16 %\n"
     ]
    }
   ],
   "source": [
    "# Вычислить оценку производительности. Доля правильных ответов\n",
    "efficiency_map = np.asarray(efficiency) # asarray - преобразование списка в массив \n",
    "\n",
    "print ('Производительность = ', (efficiency_map.sum() / efficiency_map.size)*100, '%') # Среднее арифметическое"
   ]
  },
  {
   "cell_type": "code",
   "execution_count": 118,
   "metadata": {},
   "outputs": [
    {
     "name": "stdout",
     "output_type": "stream",
     "text": [
      "Имя файла:  my_image\\_my_0.png\n"
     ]
    },
    {
     "name": "stderr",
     "output_type": "stream",
     "text": [
      "D:\\Anaconda_3\\Anaconda3\\lib\\site-packages\\ipykernel_launcher.py:15: DeprecationWarning: `imread` is deprecated!\n",
      "`imread` is deprecated in SciPy 1.0.0, and will be removed in 1.2.0.\n",
      "Use ``imageio.imread`` instead.\n",
      "  from ipykernel import kernelapp as app\n"
     ]
    },
    {
     "name": "stdout",
     "output_type": "stream",
     "text": [
      "Имя файла:  my_image\\_my_1.png\n",
      "Имя файла:  my_image\\_my_2.png\n",
      "Имя файла:  my_image\\_my_3.png\n",
      "Имя файла:  my_image\\_my_4.png\n",
      "Имя файла:  my_image\\_my_5.png\n",
      "Имя файла:  my_image\\_my_6.png\n",
      "Имя файла:  my_image\\_my_7.png\n",
      "Имя файла:  my_image\\_my_8.png\n"
     ]
    }
   ],
   "source": [
    "                                     # СОБСТВЕННЫЙ НАБОР ИЗОБРАЖЕНИЙ ДЛЯ ТЕСТА\n",
    "my_dataset = [] # Для хранения данных и целевых значений \n",
    "\n",
    "# Загрузить данные изображения в формате PNG, как установить тестовые данные\n",
    "for image_file in glob.glob('my_image/_my_?.png'): # проход по файлам изобр. в папке my_images\n",
    "    #glob - из библиотеки glob, помогает выбрать сразу несколько файлов из папки\n",
    "    \n",
    "    # Метка имени числа\n",
    "    label_y = int(image_file[-5:-4]) # хранит число в файле ?.png, -5 это ответ какое число '?'\n",
    "    # от -5 до -4 это будет символ '?', т.е метка числа\n",
    "    \n",
    "    # Загрузить данные изображения из png файлов в массив\n",
    "    print ('Имя файла: ', image_file) # вывод пути и имени открытого файла\n",
    "    \n",
    "    image_list = scipy.misc.imread(image_file, flatten=True) #“flatten=True” (“выровнять=True) ”- превращает\n",
    "    #изображения в простой массив чисел с плавающей запятой\n",
    "    \n",
    "    # Изменить формат из 28x28 в список 784 значений, инвертировать значения\n",
    "    image_data  = 255.0 - image_list.reshape(784) #преобразует массив из квадрата 28x28 в длинный список значений\n",
    "    #вычитание значений массива из 255.0. т.к обычно '0' означает черное, а '255' означает белое, но набор данных MNIST  \n",
    "    #имеет инверсные значения, поэтому мы должны их перевернуть\n",
    "    \n",
    "    # Вносим данные шкалу с диапазоном от 0 до 1\n",
    "    image_data = (image_data / 255.0 ) # массив данных входа с масштабированием от 0 до 1   \n",
    "    \n",
    "    # Добавить метку числа и данные изображения к общему набору данных\n",
    "    my_data = np.append(label_y, image_data)\n",
    "    my_dataset.append(my_data) \n",
    "    \n",
    "    pass"
   ]
  },
  {
   "cell_type": "code",
   "execution_count": 121,
   "metadata": {
    "scrolled": true
   },
   "outputs": [
    {
     "name": "stdout",
     "output_type": "stream",
     "text": [
      "[[  6.00041365e-31]\n",
      " [  4.57299897e-36]\n",
      " [  1.00886270e-12]\n",
      " [  1.80242364e-25]\n",
      " [  6.56957678e-29]\n",
      " [  8.57298326e-23]\n",
      " [  1.11927860e-26]\n",
      " [  3.89501106e-31]\n",
      " [  3.19419921e-11]\n",
      " [  2.31196646e-42]]\n",
      "Минимальное значение:  2.31196645501e-42\n",
      "Максимальное значение:  3.19419920599e-11\n",
      "\n",
      "Целевое значение:  8\n",
      "Угадал!!! :-)))\n"
     ]
    },
    {
     "data": {
      "image/png": "[encoded data removed]",
      "text/plain": [
       "<matplotlib.figure.Figure at 0x2451a22eb38>"
      ]
     },
     "metadata": {},
     "output_type": "display_data"
    }
   ],
   "source": [
    "                                    # ПРОВЕРКА СЕТИ НА СОБСТВЕННЫХ ДАННЫХ ИЗОБРАЖЕНИЙ\n",
    "# запись для тестирования\n",
    "room_choices = 8\n",
    "\n",
    "# Изображение участка\n",
    "matplotlib.pyplot.imshow(my_dataset[room_choices][1:].reshape(28,28), cmap='Greys', interpolation='None')\n",
    "# my_dataset- наш собственный набор тестовых данных\n",
    "\n",
    "# Правильный ответ в нулевом столбце\n",
    "correct_label = my_dataset[room_choices][0] # в строках номер файла из папки собственных данных, 0 толбец - ответ какое число\n",
    "\n",
    "# Входные значения\n",
    "input_x = my_dataset[room_choices][1:] # значение числа без ответа\n",
    "\n",
    "# Запросить сеть\n",
    "output_y = n.query(input_x) # прогоняем тестовую выборку по сети\n",
    "print (output_y) # вывод по выходу сети\n",
    "\n",
    "print('Минимальное значение: ', np.min(output_y)) # вывод мин знач элемента на выходе\n",
    "print('Максимальное значение: ', np.max(output_y)) # вывод макс знач элемента на выходе\n",
    "\n",
    "# Индекс самого высокого значения на выходе сети, соответствует метке\n",
    "number = np.argmax(output_y)\n",
    "print('\\nЦелевое значение: ', number)\n",
    "\n",
    "# Вывод правильный или неправильный ответ\n",
    "if (number == correct_label): # если макс знач на выходе label = ответу (0 индекс из массива) correct_label\n",
    "    print ('Угадал!!! :-)))') \n",
    "else:\n",
    "    print ('Не угадал! :-(((') \n",
    "    \n",
    "    pass"
   ]
  },
  {
   "cell_type": "code",
   "execution_count": 11,
   "metadata": {},
   "outputs": [
    {
     "data": {
      "image/png": "[encoded data removed]",
      "text/plain": [
       "<matplotlib.figure.Figure at 0x24518b1a908>"
      ]
     },
     "metadata": {},
     "output_type": "display_data"
    },
    {
     "data": {
      "image/png": "[encoded data removed]",
      "text/plain": [
       "<matplotlib.figure.Figure at 0x24518b1ac50>"
      ]
     },
     "metadata": {},
     "output_type": "display_data"
    }
   ],
   "source": [
    "# Данные изображения в ядрах свертки\n",
    "# получить данные изображения с индексом \"0\". Для крупного масштаба.\n",
    "image_y1 = n.weights[0]\n",
    "# вывод данных изображения участка с индексом \"0\".\n",
    "matplotlib.pyplot.imshow(image_y1, cmap='Greys', interpolation='None')\n",
    "\n",
    "fig = matplotlib.pyplot.figure(figsize=(10,6))\n",
    "for j in range(9):\n",
    "    ax = fig.add_subplot(3, 3, j+1)\n",
    "    ax.imshow(n.weights[j], \n",
    "              cmap=matplotlib.cm.binary, interpolation='none')\n",
    "    matplotlib.pyplot.xticks(np.array([]))\n",
    "    matplotlib.pyplot.yticks(np.array([]))\n",
    "matplotlib.pyplot.show()"
   ]
  },
  {
   "cell_type": "code",
   "execution_count": 12,
   "metadata": {},
   "outputs": [
    {
     "data": {
      "image/png": "[encoded data removed]",
      "text/plain": [
       "<matplotlib.figure.Figure at 0x2451a0581d0>"
      ]
     },
     "metadata": {},
     "output_type": "display_data"
    },
    {
     "data": {
      "image/png": "[encoded data removed]",
      "text/plain": [
       "<matplotlib.figure.Figure at 0x2451a053e48>"
      ]
     },
     "metadata": {},
     "output_type": "display_data"
    }
   ],
   "source": [
    "# Данные изображения в признаках(в сврточном слое)\n",
    "# получить данные изображения с индексом \"0\". Для крупного масштаба. \n",
    "image_y1 = n.hidden_outputs_image[0] # Карта запомнила последний тренировочный пример при обучении сети!\n",
    "# вывод данных изображения участка с индексом \"0\".\n",
    "matplotlib.pyplot.imshow(image_y1, cmap='Greys', interpolation='None')\n",
    "\n",
    "fig = matplotlib.pyplot.figure(figsize=(10,6))\n",
    "for j in range(9):\n",
    "    ax = fig.add_subplot(3, 3, j+1)\n",
    "    ax.imshow(n.hidden_outputs_image[j], \n",
    "              cmap=matplotlib.cm.binary, interpolation='none')\n",
    "    matplotlib.pyplot.xticks(np.array([]))\n",
    "    matplotlib.pyplot.yticks(np.array([]))\n",
    "matplotlib.pyplot.show()"
   ]
  },
  {
   "cell_type": "code",
   "execution_count": null,
   "metadata": {
    "collapsed": true
   },
   "outputs": [],
   "source": []
  }
 ],
 "metadata": {
  "kernelspec": {
   "display_name": "Python 3",
   "language": "python",
   "name": "python3"
  },
  "language_info": {
   "codemirror_mode": {
    "name": "ipython",
    "version": 3
   },
   "file_extension": ".py",
   "mimetype": "text/x-python",
   "name": "python",
   "nbconvert_exporter": "python",
   "pygments_lexer": "ipython3",
   "version": "3.6.3"
  }
 },
 "nbformat": 4,
 "nbformat_minor": 1
}
