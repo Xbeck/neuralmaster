{
 "cells": [
  {
   "cell_type": "code",
   "execution_count": 1,
   "metadata": {
    "collapsed": true
   },
   "outputs": [],
   "source": [
    "import numpy as np"
   ]
  },
  {
   "cell_type": "code",
   "execution_count": 2,
   "metadata": {
    "collapsed": true
   },
   "outputs": [],
   "source": [
    "# Загрузить и подготовить тренировочные данные из формата CSV в список\n",
    "training_data = open(\"dataset/Data_train.csv\", 'r') # 'r' - открываем файл для чтения\n",
    "training_data_list = training_data.readlines() # readlines() - читает все строки в файле в переменную training_data_list\n",
    "training_data.close() # закрываем файл csv\n",
    "\n",
    "# Загрузить и подготовить тестовые данные из формата CSV в список\n",
    "test_data = open(\"dataset/Data_test.csv\", 'r') # 'r' - открываем файл для чтения\n",
    "test_data_list = test_data.readlines()# Загрузить и подготовить тестовые данные из формата CSV в список \n",
    "test_data.close() # закрываем файл csv"
   ]
  },
  {
   "cell_type": "code",
   "execution_count": 3,
   "metadata": {
    "collapsed": true
   },
   "outputs": [],
   "source": [
    "# Определение класса нейронной сети\n",
    "class neuron_Net:\n",
    "    \n",
    "    # Инициализация весов нейронной сети\n",
    "    def __init__(self, input_num, neuron_num, learningrate): #констр.(кол-во входов, кол-во нейронов, скорость обучения)\n",
    "                                         # МАТРИЦА ВЕСОВ\n",
    "        # Задаем матрицу весов как случайное от -0,5 до 0,5\n",
    "        self.weights = (np.random.rand(neuron_num, input_num) -0.5) \n",
    "        # Задаем параметр скорости обучения\n",
    "        self.lr = learningrate\n",
    "        \n",
    "        pass\n",
    "    \n",
    "    # Метод обучения нейронной сети\n",
    "    def train(self, inputs_list, targets_list): # принимает (вх. список данных, ответы)\n",
    "        # Преобразовать список входов в вертикальный массив. .T - транспонирование\n",
    "        inputs_x = np.array(inputs_list, ndmin=2).T # матрица числа\n",
    "        targets_Y = np.array(targets_list, ndmin=2).T # матрица ответов: какое это число\n",
    "        \n",
    "                                           # ВЫЧИСЛЕНИЕ СИГНАЛОВ\n",
    "        # Вычислить сигналы в нейронах. Взвешенная сумма.\n",
    "        x = np.dot(self.weights, inputs_x) # dot - умножение матриц X = W*I = weights * inputs\n",
    "        # Вычислить сигналы, выходящие из нейрона. Функция активации - сигмоида(x)\n",
    "        y = 1/(1+np.exp(-x))        \n",
    "        \n",
    "                                            # ВЫЧИСЛЕНИЕ ОШИБКИ\n",
    "        #  Ошибка E = -(цель - фактическое значение) \n",
    "        E = -(targets_Y - y) \n",
    "        \n",
    "                                            # ОБНОВЛЕНИЕ ВЕСОВ\n",
    "        # Меняем веса по каждой связи\n",
    "        self.weights -= self.lr * np.dot((E * y * (1.0 - y)), np.transpose(inputs_x))\n",
    "        \n",
    "        pass\n",
    "    \n",
    "    # Метод прогона тестовых значений\n",
    "    def query(self, inputs_list): # Принимает свой набор тестовых данных\n",
    "        # Преобразовать список входов в вертикальный 2D массив. \n",
    "        inputs_x = np.array(inputs_list, ndmin=2).T \n",
    "        \n",
    "        # Вычислить сигналы в нейронах. Взвешенная сумма.\n",
    "        x = np.dot(self.weights, inputs_x)\n",
    "        # Вычислить сигналы, выходящие из нейрона. Сигмоида(x)\n",
    "        y = 1/(1+np.exp(-x))\n",
    "        \n",
    "        return y"
   ]
  },
  {
   "cell_type": "code",
   "execution_count": 4,
   "metadata": {
    "collapsed": true
   },
   "outputs": [],
   "source": [
    "                            # ЗАДАЁМ ПАРАМЕТРЫ СЕТИ\n",
    "# Количество входных данных, нейронов\n",
    "data_input = 2\n",
    "data_neuron = 2\n",
    "\n",
    "# Cкорость обучения\n",
    "learningrate = 0.1\n",
    "\n",
    "# Создать экземпляр нейронной сети\n",
    "n = neuron_Net(data_input, data_neuron, learningrate)"
   ]
  },
  {
   "cell_type": "code",
   "execution_count": 5,
   "metadata": {
    "collapsed": true
   },
   "outputs": [],
   "source": [
    "                            # ОБУЧЕНИЕ\n",
    "# Зададим количество эпох\n",
    "epochs = 10000\n",
    "# Прогон по обучающей выборке\n",
    "for e in range(epochs):\n",
    "    for i in training_data_list:\n",
    "        # Получить входные данные числа\n",
    "        all_values = i.split(',') # split(',') - раздел строку на символы где запятая \",\" символ разделения\n",
    "        inputs_x = np.asfarray(all_values[1:])\n",
    "        \n",
    "        # Получить целевое значение Y, (ответ - какое это число)\n",
    "        targets_Y = int(all_values[0])  # перевод символов в int, 0 элемент - ответ\n",
    "        \n",
    "        # создать целевые выходные значения (все 0.01, кроме нужной метки, которая равна 0.99)\n",
    "        targets_Y = np.zeros(data_neuron) + 0.01\n",
    "        \n",
    "        # Получить целевое значение Y, (ответ - какое это число). all_values[0] - целевая метка для этой записи\n",
    "        targets_Y[int(all_values[0])] = 0.99\n",
    "            \n",
    "        n.train(inputs_x, targets_Y) # наш метод train - обучение нейронной сети                      "
   ]
  },
  {
   "cell_type": "code",
   "execution_count": 6,
   "metadata": {},
   "outputs": [
    {
     "name": "stdout",
     "output_type": "stream",
     "text": [
      "Весовые коэффициенты:\n",
      " [[ 0.0082007  0.0082007]\n",
      " [-0.0082007 -0.0082007]]\n"
     ]
    }
   ],
   "source": [
    "# Вывод обученных весов\n",
    "print('Весовые коэффициенты:\\n', n.weights)"
   ]
  },
  {
   "cell_type": "code",
   "execution_count": 7,
   "metadata": {},
   "outputs": [
    {
     "name": "stdout",
     "output_type": "stream",
     "text": [
      "0 XOR 0\n",
      " [[ 0.5]\n",
      " [ 0.5]]\n",
      "1 XOR 0\n",
      " [[ 0.50205016]\n",
      " [ 0.49794984]]\n",
      "0 XOR 1\n",
      " [[ 0.50205016]\n",
      " [ 0.49794984]]\n",
      "1 XOR 1\n",
      " [[ 0.50410026]\n",
      " [ 0.49589974]]\n"
     ]
    }
   ],
   "source": [
    "# Прогоним входные данные из обучающей выборки через обученную сеть\n",
    "for i in training_data_list:\n",
    "    all_values = i.split(',') # split(',') - раздел строку на символы где запятая \",\" символ разделения\n",
    "    inputs_x = np.asfarray(all_values[1:])\n",
    "    # Прогон по сети\n",
    "    outputs = n.query(inputs_x)\n",
    "    print(all_values[1], 'XOR', all_values[2], outputs)"
   ]
  },
  {
   "cell_type": "code",
   "execution_count": null,
   "metadata": {
    "collapsed": true
   },
   "outputs": [],
   "source": []
  }
 ],
 "metadata": {
  "kernelspec": {
   "display_name": "Python 3",
   "language": "python",
   "name": "python3"
  },
  "language_info": {
   "codemirror_mode": {
    "name": "ipython",
    "version": 3
   },
   "file_extension": ".py",
   "mimetype": "text/x-python",
   "name": "python",
   "nbconvert_exporter": "python",
   "pygments_lexer": "ipython3",
   "version": "3.6.3"
  }
 },
 "nbformat": 4,
 "nbformat_minor": 2
}
