{
 "cells": [
  {
   "cell_type": "code",
   "execution_count": 1,
   "metadata": {
    "collapsed": true
   },
   "outputs": [],
   "source": [
    "import numpy as np"
   ]
  },
  {
   "cell_type": "code",
   "execution_count": 2,
   "metadata": {
    "collapsed": true
   },
   "outputs": [],
   "source": [
    "# Загрузить и подготовить тренировочные данные из формата CSV в список\n",
    "training_data = open(\"dataset/Data_train.csv\", 'r') # 'r' - открываем файл для чтения\n",
    "training_data_list = training_data.readlines() # readlines() - читает все строки в файле в переменную training_data_list\n",
    "training_data.close() # закрываем файл csv\n",
    "\n",
    "# Загрузить и подготовить тестовые данные из формата CSV в список\n",
    "test_data = open(\"dataset/Data_test.csv\", 'r') # 'r' - открываем файл для чтения\n",
    "test_data_list = test_data.readlines()# Загрузить и подготовить тестовые данные из формата CSV в список \n",
    "test_data.close() # закрываем файл csv"
   ]
  },
  {
   "cell_type": "code",
   "execution_count": 3,
   "metadata": {
    "collapsed": true
   },
   "outputs": [],
   "source": [
    "# Инициализация весов нейрона\n",
    "weights = np.zeros(15)\n",
    "\n",
    "# Скорость обучения\n",
    "lr = 0.1\n",
    "\n",
    "# Зададим количество эпох\n",
    "epochs = 50000"
   ]
  },
  {
   "cell_type": "code",
   "execution_count": 4,
   "metadata": {
    "collapsed": true
   },
   "outputs": [],
   "source": [
    "# Прогон по обучающей выборке\n",
    "for e in range(epochs):\n",
    "    for i in training_data_list:\n",
    "        # Получить входные данные числа\n",
    "        all_values = i.split(',') # split(',') - раздел строку на символы где запятая \",\" символ разделения\n",
    "        inputs_x = np.asfarray(all_values[1:])\n",
    "        \n",
    "        # Получить целевое значение Y, (ответ - какое это число)\n",
    "        target_Y = int(all_values[0]) # перевод символов в int, 0 элемент - ответ\n",
    "\n",
    "        # Так как мы ищем только значение ноль, значит только он будет верным ответом = 1.\n",
    "        # остальные ответы, будут неверными, соответственно они обращаются в ноль.\n",
    "        if target_Y == 0:\n",
    "            target_Y = 1\n",
    "        else:\n",
    "            target_Y = 0\n",
    "                \n",
    "        # Взвешенная сумма\n",
    "        x = np.sum(weights * inputs_x)\n",
    "        # Функция активации\n",
    "        y = 1/(1+np.exp(-x))\n",
    "        \n",
    "        # Ошибка E = -(целевое значение - выход нейрона)\n",
    "        E = -(target_Y - y)\n",
    " \n",
    "        # Меняем веса по каждому из входов  \n",
    "        weights -= lr * E * y * (1.0 - y) * inputs_x                "
   ]
  },
  {
   "cell_type": "code",
   "execution_count": 5,
   "metadata": {},
   "outputs": [
    {
     "name": "stdout",
     "output_type": "stream",
     "text": [
      "Весовые коэффициенты:\n",
      " [ 0.44879589 -0.18430999 -0.02023563  2.0697523  -0.07193334  0.17307025\n",
      " -2.1606589  -5.35195696 -1.45815401  3.73096992 -1.31490847  0.26365056\n",
      "  0.52117981  0.94419683 -4.20017402]\n"
     ]
    }
   ],
   "source": [
    "# Вывод обученных весов\n",
    "print('Весовые коэффициенты:\\n',weights)"
   ]
  },
  {
   "cell_type": "code",
   "execution_count": 6,
   "metadata": {},
   "outputs": [
    {
     "name": "stdout",
     "output_type": "stream",
     "text": [
      "0 Вероятность что 0:  0.987440019679\n",
      "1 Вероятность что 0:  0.00493344023472\n",
      "2 Вероятность что 0:  0.00579884946173\n",
      "3 Вероятность что 0:  1.14519734014e-05\n",
      "4 Вероятность что 0:  3.43432571255e-05\n",
      "5 Вероятность что 0:  4.53774043971e-05\n",
      "6 Вероятность что 0:  0.00591089049169\n",
      "7 Вероятность что 0:  0.00365001935213\n",
      "8 Вероятность что 0:  0.00130998489482\n",
      "9 Вероятность что 0:  0.00885106765671\n"
     ]
    }
   ],
   "source": [
    "# Еще раз пройдем по обучающей выборке\n",
    "for i in training_data_list:\n",
    "    all_values = i.split(',') # split(',') - раздел строку на символы где запятая \",\" символ разделения\n",
    "    inputs_x = np.asfarray(all_values[1:])\n",
    "    x = np.sum(weights * inputs_x)\n",
    "    print(i[0], 'Вероятность что 0: ', 1/(1+np.exp(-x)))"
   ]
  },
  {
   "cell_type": "code",
   "execution_count": 7,
   "metadata": {},
   "outputs": [
    {
     "name": "stdout",
     "output_type": "stream",
     "text": [
      "Вероятность что узнал 0 - 1 ? 0.964467249281\n",
      "Вероятность что узнал 0 - 2 ? 0.98802530455\n",
      "Вероятность что узнал 0 - 3 ? 0.614232538622\n",
      "Вероятность что узнал 0 - 4 ? 0.905331401561\n",
      "Вероятность что узнал 0 - 5 ? 0.81811184231\n",
      "Вероятность что узнал 0 - 6 ? 0.74017734823\n"
     ]
    }
   ],
   "source": [
    "# Проход по тестовой выборке\n",
    "t = 0 # Счетчик номера нуля тестовой выборки\n",
    "for i in test_data_list:\n",
    "    all_values = i.split(',') # split(',') - раздел строку на символы где запятая \",\" символ разделения\n",
    "    inputs_x = np.asfarray(all_values[1:])\n",
    "    t += 1\n",
    "    x = np.sum(weights * inputs_x)\n",
    "    \n",
    "    print('Вероятность что узнал 0 -',t, '?', 1/(1+np.exp(-x)))"
   ]
  },
  {
   "cell_type": "code",
   "execution_count": null,
   "metadata": {
    "collapsed": true
   },
   "outputs": [],
   "source": []
  }
 ],
 "metadata": {
  "kernelspec": {
   "display_name": "Python 3",
   "language": "python",
   "name": "python3"
  },
  "language_info": {
   "codemirror_mode": {
    "name": "ipython",
    "version": 3
   },
   "file_extension": ".py",
   "mimetype": "text/x-python",
   "name": "python",
   "nbconvert_exporter": "python",
   "pygments_lexer": "ipython3",
   "version": "3.6.3"
  }
 },
 "nbformat": 4,
 "nbformat_minor": 2
}
