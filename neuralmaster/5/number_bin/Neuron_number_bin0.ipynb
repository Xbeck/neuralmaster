{
 "cells": [
  {
   "cell_type": "code",
   "execution_count": 1,
   "metadata": {
    "collapsed": true
   },
   "outputs": [],
   "source": [
    "import numpy as np"
   ]
  },
  {
   "cell_type": "code",
   "execution_count": 2,
   "metadata": {},
   "outputs": [],
   "source": [
    "# Загрузить и подготовить тренировочные данные из формата CSV в список\n",
    "training_data = open(\"dataset/Data_train.csv\", 'r') # 'r' - открываем файл для чтения\n",
    "training_data_list = training_data.readlines() # readlines() - читает все строки в файле в переменную training_data_list\n",
    "training_data.close() # закрываем файл csv\n",
    "\n",
    "# Загрузить и подготовить тестовые данные из формата CSV в список\n",
    "test_data = open(\"dataset/Data_test.csv\", 'r') # 'r' - открываем файл для чтения\n",
    "test_data_list = test_data.readlines()# Загрузить и подготовить тестовые данные из формата CSV в список \n",
    "test_data.close() # закрываем файл csv"
   ]
  },
  {
   "cell_type": "code",
   "execution_count": 3,
   "metadata": {},
   "outputs": [],
   "source": [
    "# Инициализация весов нейрона\n",
    "weights = np.zeros(15)\n",
    "\n",
    "# Скорость обучения\n",
    "lr = 1\n",
    "\n",
    "# Зададим количество эпох\n",
    "epochs = 1000\n",
    "\n",
    "# Зададим порог единичной функции активации\n",
    "bias = 3"
   ]
  },
  {
   "cell_type": "code",
   "execution_count": 4,
   "metadata": {},
   "outputs": [],
   "source": [
    "# Прогон по обучающей выборке\n",
    "for e in range(epochs):\n",
    "    for i in training_data_list:\n",
    "        # Получить входные данные числа\n",
    "        all_values = i.split(',') # split(',') - раздел строку на символы где запятая \",\" символ разделения\n",
    "        inputs_x = np.asfarray(all_values[1:])\n",
    "        \n",
    "        # Получить целевое значение Y, (ответ - какое это число)\n",
    "        target_Y = int(all_values[0]) # перевод символов в int, 0 элемент - ответ\n",
    "\n",
    "        # Переводим целевой результат в бинарный вид. Так как мы ищем только значение ноль, значит только он будет верным = 1.\n",
    "        # остальные ответы, будут неверными, соответственно они обращаются в ноль.\n",
    "        if target_Y == 0:\n",
    "            target_Y = 1\n",
    "        else:\n",
    "            target_Y = 0\n",
    "        \n",
    "        \n",
    "        # Взвешенная сумма\n",
    "        y = np.sum(weights * inputs_x)\n",
    "        \n",
    "        if y >= bias:\n",
    "            # Когда равно или превышено пороговое значение, выход должен быть - y = 1\n",
    "            y = 1\n",
    "            \n",
    "            # Ошибка E = -(целевое значение - выход нейрона)\n",
    "            E = - (target_Y - y)\n",
    " \n",
    "            # Меняем веса по каждому из входов (дельта правило)\n",
    "            weights -= lr * E * inputs_x\n",
    "                \n",
    "        else:\n",
    "            # Когда не превышено пороговое значение, выход должен быть - y = 0\n",
    "            y = 0\n",
    "\n",
    "            # Ошибка E = -(целевое значение - выход нейрона)\n",
    "            E = - (target_Y - y)\n",
    " \n",
    "            # Меняем веса по каждому из входов (дельта правило)\n",
    "            weights -= lr * E * inputs_x"
   ]
  },
  {
   "cell_type": "code",
   "execution_count": 5,
   "metadata": {},
   "outputs": [
    {
     "name": "stdout",
     "output_type": "stream",
     "text": [
      "Весовые коэффициенты:\n",
      " [ 0.  0. -2.  3.  0.  2.  0. -7. -2.  3.  0.  1.  0.  0. -2.]\n"
     ]
    }
   ],
   "source": [
    "# Вывод обученых весов\n",
    "print('Весовые коэффициенты:\\n',weights)"
   ]
  },
  {
   "cell_type": "code",
   "execution_count": 6,
   "metadata": {},
   "outputs": [
    {
     "name": "stdout",
     "output_type": "stream",
     "text": [
      "0  это 0?  True\n",
      "1  это 0?  False\n",
      "2  это 0?  False\n",
      "3  это 0?  False\n",
      "4  это 0?  False\n",
      "5  это 0?  False\n",
      "6  это 0?  False\n",
      "7  это 0?  False\n",
      "8  это 0?  False\n",
      "9  это 0?  False\n"
     ]
    }
   ],
   "source": [
    "# Еще раз пройдем по обучающей выборке\n",
    "for i in training_data_list:\n",
    "    all_values = i.split(',') # split(',') - раздел строку на символы где запятая \",\" символ разделения\n",
    "    inputs_x = np.asfarray(all_values[1:])\n",
    "    print(i[0], ' это 0? ', np.sum(weights * inputs_x)>=bias)"
   ]
  },
  {
   "cell_type": "code",
   "execution_count": 7,
   "metadata": {},
   "outputs": [
    {
     "name": "stdout",
     "output_type": "stream",
     "text": [
      "Узнал 0 -  1 ? True\n",
      "Узнал 0 -  2 ? True\n",
      "Узнал 0 -  3 ? True\n",
      "Узнал 0 -  4 ? True\n",
      "Узнал 0 -  5 ? True\n",
      "Узнал 0 -  6 ? True\n"
     ]
    }
   ],
   "source": [
    "# Проход по тестовой выборке\n",
    "t = 0 # Счетчик номера нуля тестовой выборки\n",
    "for i in test_data_list:\n",
    "    all_values = i.split(',') # split(',') - раздел строку на символы где запятая \",\" символ разделения\n",
    "    inputs_x = np.asfarray(all_values[1:])\n",
    "    t += 1\n",
    "    print('Узнал 0 - ',t, '?', np.sum(weights * inputs_x)>=bias)"
   ]
  },
  {
   "cell_type": "code",
   "execution_count": null,
   "metadata": {
    "collapsed": true
   },
   "outputs": [],
   "source": []
  }
 ],
 "metadata": {
  "kernelspec": {
   "display_name": "Python 3",
   "language": "python",
   "name": "python3"
  },
  "language_info": {
   "codemirror_mode": {
    "name": "ipython",
    "version": 3
   },
   "file_extension": ".py",
   "mimetype": "text/x-python",
   "name": "python",
   "nbconvert_exporter": "python",
   "pygments_lexer": "ipython3",
   "version": "3.6.3"
  }
 },
 "nbformat": 4,
 "nbformat_minor": 2
}
