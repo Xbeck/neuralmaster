{
 "cells": [
  {
   "cell_type": "code",
   "execution_count": 22,
   "metadata": {},
   "outputs": [
    {
     "name": "stdout",
     "output_type": "stream",
     "text": [
      "Начальная прямая:  0.4 * X +  0.3652477754014445\n",
      "Готовая прямая:  2.058410130422831 * X +  2.5013583972057263\n"
     ]
    }
   ],
   "source": [
    "import random\n",
    "\n",
    "# Инициализируем любым числом крутизны наклона прямой w1 = A\n",
    "w1 = 0.4\n",
    "w1_vis = w1 # Запоминаем начальное значение крутизны наклона\n",
    "# Инициализируем параметр w2 = b - отвечающий за точку прохождения прямой через ос Y\n",
    "w2 = random.uniform(-4, 4) \n",
    "w2_vis = w2 # Запоминаем начальное значение параметра\n",
    "# Вывод данных начальной прямой\n",
    "print('Начальная прямая: ', w1, '* X + ', w2)\n",
    "\n",
    "# Скорость обучения\n",
    "lr = 0.001\n",
    "# Зададим количество эпох\n",
    "epochs = 3000\n",
    "\n",
    "# Создадим массив (выборку входных данных) входных данных x1\n",
    "arr_x1 = [1, 2, 3, 3.5, 4, 6, 7.5, 8.5, 9]\n",
    "\n",
    "# Значение входных данных второго входа всегда равно 1\n",
    "x2 = 1\n",
    "\n",
    "# Создадим массив значений (целевых значений)\n",
    "arr_y = [4.3, 7, 8.0, 10.1, 11.3, 14.2, 18.5, 19.3, 21.4]\n",
    "\n",
    "# Прогон по выборке\n",
    "for e in range(epochs):\n",
    "    for i in range(len(arr_x1)): # len(arr) - функция возвращает длину массива\n",
    "        # Получить x координату точки\n",
    "        x1 = arr_x1[i]\n",
    "        \n",
    "        # Получить расчетную y, координату точки\n",
    "        y = w1 * x1 + w2 \n",
    "        \n",
    "        # Получить целевую Y, координату точки\n",
    "        target_Y = arr_y[i]\n",
    "\n",
    "        # Ошибка E = -(целевое значение - выход нейрона)\n",
    "        E = - (target_Y - y)\n",
    " \n",
    "        # Меняем вес при x, в соответствии с правилом обновления веса\n",
    "        w1 -= lr * E * x1\n",
    "        \n",
    "        # Меняем вес при x2 = 1 \n",
    "        #w2 -= rate * E * x2 # Т.к. x2 = 1, то этот множитель можно не писать\n",
    "        w2 -= lr * E \n",
    "\n",
    "# Вывод данных готовой прямой\n",
    "print('Готовая прямая: ', w1, '* X + ', w2)"
   ]
  },
  {
   "cell_type": "code",
   "execution_count": 23,
   "metadata": {},
   "outputs": [
    {
     "data": {
      "image/png": "[encoded data removed]",
      "text/plain": [
       "<matplotlib.figure.Figure at 0x128645aa6a0>"
      ]
     },
     "metadata": {},
     "output_type": "display_data"
    }
   ],
   "source": [
    "import matplotlib.pyplot as plt\n",
    "%matplotlib inline\n",
    "# Функция для отображения входных данных\n",
    "def func_data(x_data):\n",
    "    return [arr_y[i] for i in range(len(arr_y))]\n",
    "\n",
    "# Функция для отображения начальной прямой\n",
    "def func_begin(x_begin):\n",
    "    return [w1_vis*i + w2_vis  for i in x_begin]\n",
    "\n",
    "# Функция для отображения готовой прямой\n",
    "def func(x):\n",
    "    return [w1*i + w2 for i in x]\n",
    "\n",
    "# Значения по X входных данных \n",
    "x_data = arr_x1\n",
    "\n",
    "# Значения по X начальной прямой (диапазон значений) \n",
    "x_begin = [i for i in range(0, 11)]\n",
    "\n",
    "# Значения по X готовой прямой (диапазон значений) \n",
    "x = [i for i in range(0, 11)]\n",
    "#x = np.arange(0,11,1)\n",
    "\n",
    "# Значения по Y входных данных\n",
    "y_data = func_data(x_data)\n",
    "\n",
    "# Значения по Y начальной прямой\n",
    "y_begin = func_begin(x_begin)\n",
    "\n",
    "# Значения по Y готовой прямой\n",
    "y = func(x)\n",
    "\n",
    "# Зададим имена графику и числовым координатам\n",
    "plt.title(\"Neuron_evolution_№1\")\n",
    "plt.xlabel(\"X\")\n",
    "plt.ylabel(\"Y\")\n",
    "\n",
    "# Зададим имена входным данным и прямым \n",
    "plt.plot(x,y, label='Входные данные', color = 'g') \n",
    "plt.plot(x,y, label='Готовая прямая', color = 'r')\n",
    "plt.plot(x,y, label='Начальная прямая', color = 'b') \n",
    "plt.legend(loc=2) #loc - локация имени, 2 - справа в углу\n",
    "\n",
    "# представляем точки данных (х,у) кружочками диаметра 10\n",
    "plt.scatter(x_data, y_data, color ='g', s=10) \n",
    "# Начальная прямая\n",
    "plt.plot(x_begin, y_begin, 'b')\n",
    "# Готовая прямая\n",
    "plt.plot(x, y, 'r') \n",
    "# Сетка на фоне для улучшения восприятия\n",
    "plt.grid(True, linestyle='-', color='0.75')\n",
    "# Показать график \n",
    "plt.show()"
   ]
  },
  {
   "cell_type": "code",
   "execution_count": 3,
   "metadata": {},
   "outputs": [
    {
     "name": "stdout",
     "output_type": "stream",
     "text": [
      "Введите значение ширины Х: 4\n",
      "Введите значение высоты Y: 15\n",
      "Это жираф!\n"
     ]
    }
   ],
   "source": [
    "x1 = input(\"Введите значение ширины Х: \")\n",
    "x1 = int(x1)\n",
    "T = input(\"Введите значение высоты Y: \")\n",
    "T = int(T)\n",
    "y = w1 * x1 + w2\n",
    "\n",
    "# Условие\n",
    "if T > y:\n",
    "    print('Это жираф!')\n",
    "else:\n",
    "    print('Это крокодил!')"
   ]
  },
  {
   "cell_type": "code",
   "execution_count": null,
   "metadata": {
    "collapsed": true
   },
   "outputs": [],
   "source": []
  }
 ],
 "metadata": {
  "kernelspec": {
   "display_name": "Python 3",
   "language": "python",
   "name": "python3"
  },
  "language_info": {
   "codemirror_mode": {
    "name": "ipython",
    "version": 3
   },
   "file_extension": ".py",
   "mimetype": "text/x-python",
   "name": "python",
   "nbconvert_exporter": "python",
   "pygments_lexer": "ipython3",
   "version": "3.6.3"
  }
 },
 "nbformat": 4,
 "nbformat_minor": 2
}
